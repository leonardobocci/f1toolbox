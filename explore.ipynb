{
 "cells": [
  {
   "cell_type": "code",
   "execution_count": 31,
   "id": "dae00931",
   "metadata": {},
   "outputs": [],
   "source": [
    "import fastf1\n",
    "round_num = 1\n",
    "season = 2022\n",
    "segment = 1\n",
    "session = fastf1.get_session(year=season, gp=round_num, identifier=segment)\n",
    "\n",
    "#TODO\n",
    "#Event details (weekend, location, schedules)\n",
    "#Driver details (name, team, contract, number, born_on)\n",
    "#Constructor details (name, titles_won, years_since_last_title, years_since_last_win, engine_maker?)\n",
    "#Circuit details (name, location, length, turns, lap_record)\n",
    "#Segment details (segment, start_time, end_time, duration, weather, track_temp, air_temp, humidity, wind_speed, wind_direction)\n",
    "#Telemetry"
   ]
  },
  {
   "cell_type": "code",
   "execution_count": 35,
   "id": "029bc3fb",
   "metadata": {},
   "outputs": [
    {
     "data": {
      "text/plain": [
       "RoundNumber                                                0\n",
       "Country                                                Spain\n",
       "Location                                               Spain\n",
       "OfficialEventName    FORMULA 1 PRE-SEASON TRACK SESSION 2022\n",
       "EventDate                                2022-02-25 00:00:00\n",
       "EventName                           Pre-Season Track Session\n",
       "EventFormat                                          testing\n",
       "Session1                                          Practice 1\n",
       "Session1Date                       2022-02-23 09:00:00+01:00\n",
       "Session1DateUtc                          2022-02-23 08:00:00\n",
       "Session2                                          Practice 2\n",
       "Session2Date                       2022-02-24 09:00:00+01:00\n",
       "Session2DateUtc                          2022-02-24 08:00:00\n",
       "Session3                                          Practice 3\n",
       "Session3Date                       2022-02-25 09:00:00+01:00\n",
       "Session3DateUtc                          2022-02-25 08:00:00\n",
       "Session4                                                None\n",
       "Session4Date                                            None\n",
       "Session4DateUtc                                          NaT\n",
       "Session5                                                None\n",
       "Session5Date                                            None\n",
       "Session5DateUtc                                          NaT\n",
       "F1ApiSupport                                           False\n",
       "Name: 0, dtype: object"
      ]
     },
     "execution_count": 35,
     "metadata": {},
     "output_type": "execute_result"
    }
   ],
   "source": [
    "fastf1.get_testing_event(year=season, test_number=1)"
   ]
  },
  {
   "cell_type": "code",
   "execution_count": 59,
   "id": "f69be739",
   "metadata": {},
   "outputs": [
    {
     "data": {
      "text/html": [
       "<div><style>\n",
       ".dataframe > thead > tr,\n",
       ".dataframe > tbody > tr {\n",
       "  text-align: right;\n",
       "  white-space: pre-wrap;\n",
       "}\n",
       "</style>\n",
       "<small>shape: (5, 4)</small><table border=\"1\" class=\"dataframe\"><thead><tr><th>id</th><th>event_group_type</th><th>season</th><th>circuit_id</th></tr><tr><td>str</td><td>str</td><td>i32</td><td>str</td></tr></thead><tbody><tr><td>&quot;0_2022-02-25&quot;</td><td>&quot;testing&quot;</td><td>2022</td><td>&quot;spain&quot;</td></tr><tr><td>&quot;0_2022-03-12&quot;</td><td>&quot;testing&quot;</td><td>2022</td><td>&quot;bahrain&quot;</td></tr><tr><td>&quot;1_2022-03-20&quot;</td><td>&quot;conventional&quot;</td><td>2022</td><td>&quot;sakhir&quot;</td></tr><tr><td>&quot;2_2022-03-27&quot;</td><td>&quot;conventional&quot;</td><td>2022</td><td>&quot;jeddah&quot;</td></tr><tr><td>&quot;3_2022-04-10&quot;</td><td>&quot;conventional&quot;</td><td>2022</td><td>&quot;melbourne&quot;</td></tr></tbody></table></div>"
      ],
      "text/plain": [
       "shape: (5, 4)\n",
       "┌──────────────┬──────────────────┬────────┬────────────┐\n",
       "│ id           ┆ event_group_type ┆ season ┆ circuit_id │\n",
       "│ ---          ┆ ---              ┆ ---    ┆ ---        │\n",
       "│ str          ┆ str              ┆ i32    ┆ str        │\n",
       "╞══════════════╪══════════════════╪════════╪════════════╡\n",
       "│ 0_2022-02-25 ┆ testing          ┆ 2022   ┆ spain      │\n",
       "│ 0_2022-03-12 ┆ testing          ┆ 2022   ┆ bahrain    │\n",
       "│ 1_2022-03-20 ┆ conventional     ┆ 2022   ┆ sakhir     │\n",
       "│ 2_2022-03-27 ┆ conventional     ┆ 2022   ┆ jeddah     │\n",
       "│ 3_2022-04-10 ┆ conventional     ┆ 2022   ┆ melbourne  │\n",
       "└──────────────┴──────────────────┴────────┴────────────┘"
      ]
     },
     "execution_count": 59,
     "metadata": {},
     "output_type": "execute_result"
    }
   ],
   "source": [
    "#EventGroups\n",
    "df = pl.from_pandas(fastf1.get_event_schedule(year=season))\n",
    "df.select(\n",
    "    pl.concat_str(['RoundNumber', pl.lit('_'), pl.col('EventDate').cast(pl.Date)]).alias('id'),\n",
    "    pl.col('EventFormat').str.to_lowercase().alias('event_group_type'),\n",
    "    pl.col('EventDate').dt.year().alias('season'),\n",
    "    pl.col('Location').str.to_lowercase().alias('circuit_id'),\n",
    ").head(5)"
   ]
  },
  {
   "cell_type": "code",
   "execution_count": 85,
   "id": "4e1821d0",
   "metadata": {},
   "outputs": [
    {
     "ename": "TypeError",
     "evalue": "object of type 'Expr' has no len()",
     "output_type": "error",
     "traceback": [
      "\u001b[0;31m---------------------------------------------------------------------------\u001b[0m",
      "\u001b[0;31mTypeError\u001b[0m                                 Traceback (most recent call last)",
      "Cell \u001b[0;32mIn[85], line 1\u001b[0m\n\u001b[0;32m----> 1\u001b[0m df\u001b[38;5;241m.\u001b[39mwith_columns(conc_sessions\u001b[38;5;241m=\u001b[39m\u001b[38;5;28;43mlen\u001b[39;49m\u001b[43m(\u001b[49m\u001b[43mpl\u001b[49m\u001b[38;5;241;43m.\u001b[39;49m\u001b[43mconcat_str\u001b[49m\u001b[43m(\u001b[49m\u001b[43m[\u001b[49m\n\u001b[1;32m      2\u001b[0m \u001b[43m        \u001b[49m\u001b[43mpl\u001b[49m\u001b[38;5;241;43m.\u001b[39;49m\u001b[43mcol\u001b[49m\u001b[43m(\u001b[49m\u001b[38;5;124;43m\"\u001b[39;49m\u001b[38;5;124;43mSession1\u001b[39;49m\u001b[38;5;124;43m\"\u001b[39;49m\u001b[43m)\u001b[49m\u001b[38;5;241;43m.\u001b[39;49m\u001b[43mstr\u001b[49m\u001b[38;5;241;43m.\u001b[39;49m\u001b[43mslice\u001b[49m\u001b[43m(\u001b[49m\u001b[38;5;241;43m-\u001b[39;49m\u001b[38;5;241;43m1\u001b[39;49m\u001b[43m)\u001b[49m\u001b[43m,\u001b[49m\n\u001b[1;32m      3\u001b[0m \u001b[43m        \u001b[49m\u001b[43mpl\u001b[49m\u001b[38;5;241;43m.\u001b[39;49m\u001b[43mcol\u001b[49m\u001b[43m(\u001b[49m\u001b[38;5;124;43m\"\u001b[39;49m\u001b[38;5;124;43mSession2\u001b[39;49m\u001b[38;5;124;43m\"\u001b[39;49m\u001b[43m)\u001b[49m\u001b[38;5;241;43m.\u001b[39;49m\u001b[43mstr\u001b[49m\u001b[38;5;241;43m.\u001b[39;49m\u001b[43mslice\u001b[49m\u001b[43m(\u001b[49m\u001b[38;5;241;43m-\u001b[39;49m\u001b[38;5;241;43m1\u001b[39;49m\u001b[43m)\u001b[49m\n\u001b[1;32m      4\u001b[0m \u001b[43m    \u001b[49m\u001b[43m]\u001b[49m\u001b[43m)\u001b[49m\u001b[43m)\u001b[49m)\u001b[38;5;241m.\u001b[39mhead(\u001b[38;5;241m5\u001b[39m)\n",
      "\u001b[0;31mTypeError\u001b[0m: object of type 'Expr' has no len()"
     ]
    }
   ],
   "source": [
    "df.with_columns(conc_sessions=len(pl.concat_str([\n",
    "        pl.col(\"Session1\").str.slice(-1),\n",
    "        pl.col(\"Session2\").str.slice(-1)\n",
    "    ]))).head(5)"
   ]
  },
  {
   "cell_type": "code",
   "execution_count": 72,
   "id": "4bc353e6",
   "metadata": {},
   "outputs": [
    {
     "data": {
      "text/html": [
       "<div><style>\n",
       ".dataframe > thead > tr,\n",
       ".dataframe > tbody > tr {\n",
       "  text-align: right;\n",
       "  white-space: pre-wrap;\n",
       "}\n",
       "</style>\n",
       "<small>shape: (5, 5)</small><table border=\"1\" class=\"dataframe\"><thead><tr><th>Session1</th><th>Session2</th><th>Session3</th><th>Session4</th><th>Session5</th></tr><tr><td>bool</td><td>str</td><td>str</td><td>str</td><td>str</td></tr></thead><tbody><tr><td>true</td><td>&quot;Practice 2&quot;</td><td>&quot;Practice 3&quot;</td><td>&quot;None&quot;</td><td>&quot;None&quot;</td></tr><tr><td>true</td><td>&quot;Practice 2&quot;</td><td>&quot;Practice 3&quot;</td><td>&quot;None&quot;</td><td>&quot;None&quot;</td></tr><tr><td>true</td><td>&quot;Practice 2&quot;</td><td>&quot;Practice 3&quot;</td><td>&quot;Qualifying&quot;</td><td>&quot;Race&quot;</td></tr><tr><td>true</td><td>&quot;Practice 2&quot;</td><td>&quot;Practice 3&quot;</td><td>&quot;Qualifying&quot;</td><td>&quot;Race&quot;</td></tr><tr><td>true</td><td>&quot;Practice 2&quot;</td><td>&quot;Practice 3&quot;</td><td>&quot;Qualifying&quot;</td><td>&quot;Race&quot;</td></tr></tbody></table></div>"
      ],
      "text/plain": [
       "shape: (5, 5)\n",
       "┌──────────┬────────────┬────────────┬────────────┬──────────┐\n",
       "│ Session1 ┆ Session2   ┆ Session3   ┆ Session4   ┆ Session5 │\n",
       "│ ---      ┆ ---        ┆ ---        ┆ ---        ┆ ---      │\n",
       "│ bool     ┆ str        ┆ str        ┆ str        ┆ str      │\n",
       "╞══════════╪════════════╪════════════╪════════════╪══════════╡\n",
       "│ true     ┆ Practice 2 ┆ Practice 3 ┆ None       ┆ None     │\n",
       "│ true     ┆ Practice 2 ┆ Practice 3 ┆ None       ┆ None     │\n",
       "│ true     ┆ Practice 2 ┆ Practice 3 ┆ Qualifying ┆ Race     │\n",
       "│ true     ┆ Practice 2 ┆ Practice 3 ┆ Qualifying ┆ Race     │\n",
       "│ true     ┆ Practice 2 ┆ Practice 3 ┆ Qualifying ┆ Race     │\n",
       "└──────────┴────────────┴────────────┴────────────┴──────────┘"
      ]
     },
     "execution_count": 72,
     "metadata": {},
     "output_type": "execute_result"
    }
   ],
   "source": [
    "session_columns = ['Session1', 'Session2', 'Session3', 'Session4', 'Session5']\n",
    "df.with_columns(\n",
    "    pl.col(\"Session1\").replace(\"None\", None).is_not_null().alias(\"Session1\"),\n",
    ").select(session_columns).head(5)"
   ]
  },
  {
   "cell_type": "code",
   "execution_count": 64,
   "id": "1d0b4121",
   "metadata": {},
   "outputs": [
    {
     "ename": "AttributeError",
     "evalue": "'DataFrame' object has no attribute 'map_dict'",
     "output_type": "error",
     "traceback": [
      "\u001b[0;31m---------------------------------------------------------------------------\u001b[0m",
      "\u001b[0;31mAttributeError\u001b[0m                            Traceback (most recent call last)",
      "Cell \u001b[0;32mIn[64], line 2\u001b[0m\n\u001b[1;32m      1\u001b[0m mapper \u001b[38;5;241m=\u001b[39m {\u001b[38;5;124m\"\u001b[39m\u001b[38;5;124mNone\u001b[39m\u001b[38;5;124m\"\u001b[39m: \u001b[38;5;28;01mNone\u001b[39;00m}\n\u001b[0;32m----> 2\u001b[0m \u001b[43mpl\u001b[49m\u001b[38;5;241;43m.\u001b[39;49m\u001b[43mfrom_pandas\u001b[49m\u001b[43m(\u001b[49m\u001b[43mfastf1\u001b[49m\u001b[38;5;241;43m.\u001b[39;49m\u001b[43mget_event_schedule\u001b[49m\u001b[43m(\u001b[49m\u001b[43myear\u001b[49m\u001b[38;5;241;43m=\u001b[39;49m\u001b[43mseason\u001b[49m\u001b[43m)\u001b[49m\u001b[43m)\u001b[49m\u001b[38;5;241;43m.\u001b[39;49m\u001b[43mmap_dict\u001b[49m(mapper)\n",
      "\u001b[0;31mAttributeError\u001b[0m: 'DataFrame' object has no attribute 'map_dict'"
     ]
    }
   ],
   "source": [
    "mapper = {\"None\": None}\n",
    "pl.from_pandas(fastf1.get_event_schedule(year=season)).map_dict(mapper)"
   ]
  },
  {
   "cell_type": "code",
   "execution_count": 32,
   "id": "d59191fe",
   "metadata": {},
   "outputs": [
    {
     "data": {
      "text/plain": [
       "RoundNumber                                                   1\n",
       "Country                                                 Bahrain\n",
       "Location                                                 Sakhir\n",
       "OfficialEventName    FORMULA 1 GULF AIR BAHRAIN GRAND PRIX 2022\n",
       "EventDate                                   2022-03-20 00:00:00\n",
       "EventName                                    Bahrain Grand Prix\n",
       "EventFormat                                        conventional\n",
       "Session1                                             Practice 1\n",
       "Session1Date                          2022-03-18 15:00:00+03:00\n",
       "Session1DateUtc                             2022-03-18 12:00:00\n",
       "Session2                                             Practice 2\n",
       "Session2Date                          2022-03-18 18:00:00+03:00\n",
       "Session2DateUtc                             2022-03-18 15:00:00\n",
       "Session3                                             Practice 3\n",
       "Session3Date                          2022-03-19 15:00:00+03:00\n",
       "Session3DateUtc                             2022-03-19 12:00:00\n",
       "Session4                                             Qualifying\n",
       "Session4Date                          2022-03-19 18:00:00+03:00\n",
       "Session4DateUtc                             2022-03-19 15:00:00\n",
       "Session5                                                   Race\n",
       "Session5Date                          2022-03-20 18:00:00+03:00\n",
       "Session5DateUtc                             2022-03-20 15:00:00\n",
       "F1ApiSupport                                               True\n",
       "Name: 2, dtype: object"
      ]
     },
     "execution_count": 32,
     "metadata": {},
     "output_type": "execute_result"
    }
   ],
   "source": [
    "fastf1.get_event(year=season, gp=round_num)"
   ]
  },
  {
   "cell_type": "code",
   "execution_count": 30,
   "id": "d1f8ae47",
   "metadata": {},
   "outputs": [
    {
     "data": {
      "text/plain": [
       "RoundNumber                                                   1\n",
       "Country                                                 Bahrain\n",
       "Location                                                 Sakhir\n",
       "OfficialEventName    FORMULA 1 GULF AIR BAHRAIN GRAND PRIX 2022\n",
       "EventDate                                   2022-03-20 00:00:00\n",
       "EventName                                    Bahrain Grand Prix\n",
       "EventFormat                                        conventional\n",
       "Session1                                             Practice 1\n",
       "Session1Date                          2022-03-18 15:00:00+03:00\n",
       "Session1DateUtc                             2022-03-18 12:00:00\n",
       "Session2                                             Practice 2\n",
       "Session2Date                          2022-03-18 18:00:00+03:00\n",
       "Session2DateUtc                             2022-03-18 15:00:00\n",
       "Session3                                             Practice 3\n",
       "Session3Date                          2022-03-19 15:00:00+03:00\n",
       "Session3DateUtc                             2022-03-19 12:00:00\n",
       "Session4                                             Qualifying\n",
       "Session4Date                          2022-03-19 18:00:00+03:00\n",
       "Session4DateUtc                             2022-03-19 15:00:00\n",
       "Session5                                                   Race\n",
       "Session5Date                          2022-03-20 18:00:00+03:00\n",
       "Session5DateUtc                             2022-03-20 15:00:00\n",
       "F1ApiSupport                                               True\n",
       "Name: 2, dtype: object"
      ]
     },
     "execution_count": 30,
     "metadata": {},
     "output_type": "execute_result"
    }
   ],
   "source": [
    "session.event"
   ]
  },
  {
   "cell_type": "code",
   "execution_count": 18,
   "id": "cf79df94",
   "metadata": {},
   "outputs": [
    {
     "data": {
      "text/html": [
       "<div><style>\n",
       ".dataframe > thead > tr,\n",
       ".dataframe > tbody > tr {\n",
       "  text-align: right;\n",
       "  white-space: pre-wrap;\n",
       "}\n",
       "</style>\n",
       "<small>shape: (1, 1)</small><table border=\"1\" class=\"dataframe\"><thead><tr><th>name</th></tr><tr><td>str</td></tr></thead><tbody><tr><td>&quot;Practice 1&quot;</td></tr></tbody></table></div>"
      ],
      "text/plain": [
       "shape: (1, 1)\n",
       "┌────────────┐\n",
       "│ name       │\n",
       "│ ---        │\n",
       "│ str        │\n",
       "╞════════════╡\n",
       "│ Practice 1 │\n",
       "└────────────┘"
      ]
     },
     "execution_count": 18,
     "metadata": {},
     "output_type": "execute_result"
    }
   ],
   "source": [
    "import polars as pl\n",
    "mydict = {\n",
    "    'name': session.name\n",
    "}\n",
    "pl.DataFrame(mydict)"
   ]
  }
 ],
 "metadata": {
  "kernelspec": {
   "display_name": "Python 3 (ipykernel)",
   "language": "python",
   "name": "python3"
  },
  "language_info": {
   "codemirror_mode": {
    "name": "ipython",
    "version": 3
   },
   "file_extension": ".py",
   "mimetype": "text/x-python",
   "name": "python",
   "nbconvert_exporter": "python",
   "pygments_lexer": "ipython3",
   "version": "3.10.12"
  }
 },
 "nbformat": 4,
 "nbformat_minor": 5
}
