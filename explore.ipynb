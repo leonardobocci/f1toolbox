{
 "cells": [
  {
   "cell_type": "code",
   "execution_count": 2,
   "id": "6c947d30",
   "metadata": {},
   "outputs": [],
   "source": [
    "import json"
   ]
  },
  {
   "cell_type": "code",
   "execution_count": 3,
   "id": "6183225c-3bf3-4345-b281-77d78eb8375e",
   "metadata": {},
   "outputs": [],
   "source": [
    "with open(f'data/landing/fantasy/2022/constructor_results.json', 'r') as f:\n",
    "        f2022 = json.load(f)"
   ]
  },
  {
   "cell_type": "code",
   "execution_count": 4,
   "id": "a7d2f08f-d586-4e4a-86d9-eb2e47c773ba",
   "metadata": {},
   "outputs": [],
   "source": [
    "with open(f'data/landing/fantasy/2023/constructor_results.json', 'r') as f:\n",
    "        f2023 = json.load(f)"
   ]
  },
  {
   "cell_type": "code",
   "execution_count": 5,
   "id": "64700dee",
   "metadata": {},
   "outputs": [],
   "source": [
    "with open(f'data/landing/fantasy/2024/constructor_results.json', 'r') as f:\n",
    "        f2024 = json.load(f)"
   ]
  }
 ],
 "metadata": {
  "kernelspec": {
   "display_name": "Python 3 (ipykernel)",
   "language": "python",
   "name": "python3"
  },
  "language_info": {
   "codemirror_mode": {
    "name": "ipython",
    "version": 3
   },
   "file_extension": ".py",
   "mimetype": "text/x-python",
   "name": "python",
   "nbconvert_exporter": "python",
   "pygments_lexer": "ipython3",
   "version": "3.10.12"
  }
 },
 "nbformat": 4,
 "nbformat_minor": 5
}
