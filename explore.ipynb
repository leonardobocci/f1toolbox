{
 "cells": [
  {
   "cell_type": "code",
   "execution_count": 10,
   "metadata": {},
   "outputs": [],
   "source": [
    "import json\n",
    "with open(f'data/landing/fantasy/2022/races.json', 'r') as f:\n",
    "    file = json.load(f)"
   ]
  },
  {
   "cell_type": "code",
   "execution_count": 12,
   "id": "2f855555",
   "metadata": {},
   "outputs": [
    {
     "data": {
      "text/plain": [
       "{'created_by': 'Polars',\n",
       " 'num_columns': 5,\n",
       " 'num_rows': 44,\n",
       " 'num_row_groups': 1,\n",
       " 'row_groups': [{'num_columns': 5,\n",
       "   'num_rows': 44,\n",
       "   'total_byte_size': 1373,\n",
       "   'columns': [{'file_offset': 170,\n",
       "     'file_path': '',\n",
       "     'physical_type': 'BYTE_ARRAY',\n",
       "     'num_values': 44,\n",
       "     'path_in_schema': 'country_code',\n",
       "     'is_stats_set': False,\n",
       "     'statistics': None,\n",
       "     'compression': 'ZSTD',\n",
       "     'encodings': ('PLAIN', 'RLE'),\n",
       "     'has_dictionary_page': False,\n",
       "     'dictionary_page_offset': None,\n",
       "     'data_page_offset': 4,\n",
       "     'total_compressed_size': 166,\n",
       "     'total_uncompressed_size': 339},\n",
       "    {'file_offset': 305,\n",
       "     'file_path': '',\n",
       "     'physical_type': 'BYTE_ARRAY',\n",
       "     'num_values': 44,\n",
       "     'path_in_schema': 'event_format',\n",
       "     'is_stats_set': False,\n",
       "     'statistics': None,\n",
       "     'compression': 'ZSTD',\n",
       "     'encodings': ('PLAIN', 'RLE'),\n",
       "     'has_dictionary_page': False,\n",
       "     'dictionary_page_offset': None,\n",
       "     'data_page_offset': 204,\n",
       "     'total_compressed_size': 101,\n",
       "     'total_uncompressed_size': 681},\n",
       "    {'file_offset': 384,\n",
       "     'file_path': '',\n",
       "     'physical_type': 'BOOLEAN',\n",
       "     'num_values': 44,\n",
       "     'path_in_schema': 'has_any_results',\n",
       "     'is_stats_set': False,\n",
       "     'statistics': None,\n",
       "     'compression': 'ZSTD',\n",
       "     'encodings': ('PLAIN', 'RLE'),\n",
       "     'has_dictionary_page': False,\n",
       "     'dictionary_page_offset': None,\n",
       "     'data_page_offset': 340,\n",
       "     'total_compressed_size': 44,\n",
       "     'total_uncompressed_size': 35},\n",
       "    {'file_offset': 574,\n",
       "     'file_path': '',\n",
       "     'physical_type': 'INT64',\n",
       "     'num_values': 44,\n",
       "     'path_in_schema': 'round_number',\n",
       "     'is_stats_set': False,\n",
       "     'statistics': None,\n",
       "     'compression': 'ZSTD',\n",
       "     'encodings': ('PLAIN', 'RLE', 'RLE_DICTIONARY'),\n",
       "     'has_dictionary_page': False,\n",
       "     'dictionary_page_offset': None,\n",
       "     'data_page_offset': 420,\n",
       "     'total_compressed_size': 154,\n",
       "     'total_uncompressed_size': 260},\n",
       "    {'file_offset': 686,\n",
       "     'file_path': '',\n",
       "     'physical_type': 'INT32',\n",
       "     'num_values': 44,\n",
       "     'path_in_schema': 'season',\n",
       "     'is_stats_set': False,\n",
       "     'statistics': None,\n",
       "     'compression': 'ZSTD',\n",
       "     'encodings': ('PLAIN', 'RLE', 'RLE_DICTIONARY'),\n",
       "     'has_dictionary_page': False,\n",
       "     'dictionary_page_offset': None,\n",
       "     'data_page_offset': 610,\n",
       "     'total_compressed_size': 76,\n",
       "     'total_uncompressed_size': 58}],\n",
       "   'sorting_columns': []}],\n",
       " 'format_version': '2.6',\n",
       " 'serialized_size': 974}"
      ]
     },
     "execution_count": 12,
     "metadata": {},
     "output_type": "execute_result"
    }
   ],
   "source": [
    "from pyarrow.parquet import read_metadata as parquet_metadata\n",
    "\n",
    "meta = parquet_metadata(f'data/bronze/fantasy/races.parquet').to_dict()\n",
    "rows = meta['num_rows']\n",
    "cols = meta['num_columns']"
   ]
  },
  {
   "cell_type": "code",
   "execution_count": 14,
   "id": "8ba6fdc2",
   "metadata": {},
   "outputs": [
    {
     "data": {
      "text/plain": [
       "22"
      ]
     },
     "execution_count": 14,
     "metadata": {},
     "output_type": "execute_result"
    }
   ],
   "source": [
    "len(file['races'])"
   ]
  }
 ],
 "metadata": {
  "kernelspec": {
   "display_name": "Python 3 (ipykernel)",
   "language": "python",
   "name": "python3"
  },
  "language_info": {
   "codemirror_mode": {
    "name": "ipython",
    "version": 3
   },
   "file_extension": ".py",
   "mimetype": "text/x-python",
   "name": "python",
   "nbconvert_exporter": "python",
   "pygments_lexer": "ipython3",
   "version": "3.10.12"
  }
 },
 "nbformat": 4,
 "nbformat_minor": 5
}
