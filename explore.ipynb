{
 "cells": [
  {
   "cell_type": "code",
   "execution_count": 70,
   "id": "36e3d6f8",
   "metadata": {},
   "outputs": [
    {
     "data": {
      "text/html": [
       "[(1.7084e9.strict_cast(Int64)) * (1000000)].strict_cast(Datetime(Microseconds, None))"
      ],
      "text/plain": [
       "<Expr ['[(1.7084e9.strict_cast(Int64))…'] at 0x7F3A1E720400>"
      ]
     },
     "execution_count": 70,
     "metadata": {},
     "output_type": "execute_result"
    }
   ],
   "source": [
    "import os\n",
    "import polars as pl\n",
    "pl.from_epoch(pl.lit(os.path.getmtime('data/landing/fantasy/current_fantasy_assets.json')))"
   ]
  },
  {
   "cell_type": "code",
   "execution_count": 110,
   "id": "9561e11d",
   "metadata": {},
   "outputs": [
    {
     "data": {
      "text/html": [
       "<div><style>\n",
       ".dataframe > thead > tr,\n",
       ".dataframe > tbody > tr {\n",
       "  text-align: right;\n",
       "  white-space: pre-wrap;\n",
       "}\n",
       "</style>\n",
       "<small>shape: (29, 5)</small><table border=\"1\" class=\"dataframe\"><thead><tr><th>name</th><th>color</th><th>active</th><th>id</th><th>last_updated</th></tr><tr><td>str</td><td>str</td><td>i64</td><td>str</td><td>datetime[μs]</td></tr></thead><tbody><tr><td>&quot;VERSTAPPEN&quot;</td><td>&quot;#0600ef&quot;</td><td>1</td><td>&quot;VER&quot;</td><td>2024-02-19 18:09:35</td></tr><tr><td>&quot;PEREZ&quot;</td><td>&quot;#0600ef&quot;</td><td>1</td><td>&quot;PER&quot;</td><td>2024-02-19 18:09:35</td></tr><tr><td>&quot;NORRIS&quot;</td><td>&quot;#FF9800&quot;</td><td>1</td><td>&quot;NOR&quot;</td><td>2024-02-19 18:09:35</td></tr><tr><td>&quot;PIASTRI&quot;</td><td>&quot;#FF9800&quot;</td><td>1</td><td>&quot;PIA&quot;</td><td>2024-02-19 18:09:35</td></tr><tr><td>&quot;HAMILTON&quot;</td><td>&quot;#00d2be&quot;</td><td>1</td><td>&quot;HAM&quot;</td><td>2024-02-19 18:09:35</td></tr><tr><td>&quot;RUSSELL&quot;</td><td>&quot;#00d2be&quot;</td><td>1</td><td>&quot;RUS&quot;</td><td>2024-02-19 18:09:35</td></tr><tr><td>&quot;LECLERC&quot;</td><td>&quot;#dc0000&quot;</td><td>1</td><td>&quot;LEC&quot;</td><td>2024-02-19 18:09:35</td></tr><tr><td>&quot;SAINZ&quot;</td><td>&quot;#dc0000&quot;</td><td>1</td><td>&quot;SAI&quot;</td><td>2024-02-19 18:09:35</td></tr><tr><td>&quot;ALONSO&quot;</td><td>&quot;#006f62&quot;</td><td>1</td><td>&quot;ALO&quot;</td><td>2024-02-19 18:09:35</td></tr><tr><td>&quot;ALONSO&quot;</td><td>&quot;#006f62&quot;</td><td>1</td><td>&quot;ALO&quot;</td><td>2024-02-19 18:09:35</td></tr><tr><td>&quot;STROLL&quot;</td><td>&quot;#006f62&quot;</td><td>1</td><td>&quot;STR&quot;</td><td>2024-02-19 18:09:35</td></tr><tr><td>&quot;RICCIARDO&quot;</td><td>&quot;#1434cb&quot;</td><td>1</td><td>&quot;RIC&quot;</td><td>2024-02-19 18:09:35</td></tr><tr><td>&hellip;</td><td>&hellip;</td><td>&hellip;</td><td>&hellip;</td><td>&hellip;</td></tr><tr><td>&quot;ZHOU&quot;</td><td>&quot;#00E701&quot;</td><td>1</td><td>&quot;ZHO&quot;</td><td>2024-02-19 18:09:35</td></tr><tr><td>&quot;BOTTAS&quot;</td><td>&quot;#00E701&quot;</td><td>1</td><td>&quot;BOT&quot;</td><td>2024-02-19 18:09:35</td></tr><tr><td>&quot;HULKENBERG&quot;</td><td>&quot;#ffffff&quot;</td><td>1</td><td>&quot;HUL&quot;</td><td>2024-02-19 18:09:35</td></tr><tr><td>&quot;MAGNUSSEN&quot;</td><td>&quot;#ffffff&quot;</td><td>1</td><td>&quot;MAG&quot;</td><td>2024-02-19 18:09:35</td></tr><tr><td>&quot;SARGEANT&quot;</td><td>&quot;#005aff&quot;</td><td>1</td><td>&quot;SAR&quot;</td><td>2024-02-19 18:09:35</td></tr><tr><td>&quot;VETTEL&quot;</td><td>null</td><td>0</td><td>&quot;VET&quot;</td><td>null</td></tr><tr><td>&quot;LATIFI&quot;</td><td>null</td><td>0</td><td>&quot;LAT&quot;</td><td>null</td></tr><tr><td>&quot;SCHUMACHER&quot;</td><td>null</td><td>0</td><td>&quot;MSC&quot;</td><td>null</td></tr><tr><td>&quot;GIOVINAZZI&quot;</td><td>null</td><td>0</td><td>&quot;GIO&quot;</td><td>null</td></tr><tr><td>&quot;MAZEPIN&quot;</td><td>null</td><td>0</td><td>&quot;MAZ&quot;</td><td>null</td></tr><tr><td>&quot;DEVRIES&quot;</td><td>null</td><td>0</td><td>&quot;DEV&quot;</td><td>null</td></tr><tr><td>&quot;LAWSON&quot;</td><td>null</td><td>0</td><td>&quot;LAW&quot;</td><td>null</td></tr></tbody></table></div>"
      ],
      "text/plain": [
       "shape: (29, 5)\n",
       "┌────────────┬─────────┬────────┬─────┬─────────────────────┐\n",
       "│ name       ┆ color   ┆ active ┆ id  ┆ last_updated        │\n",
       "│ ---        ┆ ---     ┆ ---    ┆ --- ┆ ---                 │\n",
       "│ str        ┆ str     ┆ i64    ┆ str ┆ datetime[μs]        │\n",
       "╞════════════╪═════════╪════════╪═════╪═════════════════════╡\n",
       "│ VERSTAPPEN ┆ #0600ef ┆ 1      ┆ VER ┆ 2024-02-19 18:09:35 │\n",
       "│ PEREZ      ┆ #0600ef ┆ 1      ┆ PER ┆ 2024-02-19 18:09:35 │\n",
       "│ NORRIS     ┆ #FF9800 ┆ 1      ┆ NOR ┆ 2024-02-19 18:09:35 │\n",
       "│ PIASTRI    ┆ #FF9800 ┆ 1      ┆ PIA ┆ 2024-02-19 18:09:35 │\n",
       "│ HAMILTON   ┆ #00d2be ┆ 1      ┆ HAM ┆ 2024-02-19 18:09:35 │\n",
       "│ …          ┆ …       ┆ …      ┆ …   ┆ …                   │\n",
       "│ SCHUMACHER ┆ null    ┆ 0      ┆ MSC ┆ null                │\n",
       "│ GIOVINAZZI ┆ null    ┆ 0      ┆ GIO ┆ null                │\n",
       "│ MAZEPIN    ┆ null    ┆ 0      ┆ MAZ ┆ null                │\n",
       "│ DEVRIES    ┆ null    ┆ 0      ┆ DEV ┆ null                │\n",
       "│ LAWSON     ┆ null    ┆ 0      ┆ LAW ┆ null                │\n",
       "└────────────┴─────────┴────────┴─────┴─────────────────────┘"
      ]
     },
     "execution_count": 110,
     "metadata": {},
     "output_type": "execute_result"
    }
   ],
   "source": [
    "pl.read_parquet('data/bronze/fantasy/drivers.parquet')"
   ]
  },
  {
   "cell_type": "code",
   "execution_count": 105,
   "id": "21113226",
   "metadata": {},
   "outputs": [
    {
     "data": {
      "text/html": [
       "<div><style>\n",
       ".dataframe > thead > tr,\n",
       ".dataframe > tbody > tr {\n",
       "  text-align: right;\n",
       "  white-space: pre-wrap;\n",
       "}\n",
       "</style>\n",
       "<small>shape: (29, 4)</small><table border=\"1\" class=\"dataframe\"><thead><tr><th>id</th><th>name</th><th>active</th><th>color</th></tr><tr><td>str</td><td>str</td><td>i64</td><td>str</td></tr></thead><tbody><tr><td>&quot;VER&quot;</td><td>&quot;VERSTAPPEN&quot;</td><td>1</td><td>&quot;#0600ef&quot;</td></tr><tr><td>&quot;PER&quot;</td><td>&quot;PEREZ&quot;</td><td>1</td><td>&quot;#0600ef&quot;</td></tr><tr><td>&quot;NOR&quot;</td><td>&quot;NORRIS&quot;</td><td>1</td><td>&quot;#FF9800&quot;</td></tr><tr><td>&quot;PIA&quot;</td><td>&quot;PIASTRI&quot;</td><td>1</td><td>&quot;#FF9800&quot;</td></tr><tr><td>&quot;HAM&quot;</td><td>&quot;HAMILTON&quot;</td><td>1</td><td>&quot;#00d2be&quot;</td></tr><tr><td>&quot;RUS&quot;</td><td>&quot;RUSSELL&quot;</td><td>1</td><td>&quot;#00d2be&quot;</td></tr><tr><td>&quot;LEC&quot;</td><td>&quot;LECLERC&quot;</td><td>1</td><td>&quot;#dc0000&quot;</td></tr><tr><td>&quot;SAI&quot;</td><td>&quot;SAINZ&quot;</td><td>1</td><td>&quot;#dc0000&quot;</td></tr><tr><td>&quot;ALO&quot;</td><td>&quot;ALONSO&quot;</td><td>1</td><td>&quot;#0090ff&quot;</td></tr><tr><td>&quot;ALO&quot;</td><td>&quot;ALONSO&quot;</td><td>1</td><td>&quot;#006f62&quot;</td></tr><tr><td>&quot;STR&quot;</td><td>&quot;STROLL&quot;</td><td>1</td><td>&quot;#006f62&quot;</td></tr><tr><td>&quot;RIC&quot;</td><td>&quot;RICCIARDO&quot;</td><td>1</td><td>&quot;#FF9800&quot;</td></tr><tr><td>&hellip;</td><td>&hellip;</td><td>&hellip;</td><td>&hellip;</td></tr><tr><td>&quot;ZHO&quot;</td><td>&quot;ZHOU&quot;</td><td>1</td><td>&quot;#900000&quot;</td></tr><tr><td>&quot;BOT&quot;</td><td>&quot;BOTTAS&quot;</td><td>1</td><td>&quot;#900000&quot;</td></tr><tr><td>&quot;HUL&quot;</td><td>&quot;HULKENBERG&quot;</td><td>1</td><td>&quot;#ffffff&quot;</td></tr><tr><td>&quot;MAG&quot;</td><td>&quot;MAGNUSSEN&quot;</td><td>1</td><td>&quot;#ffffff&quot;</td></tr><tr><td>&quot;SAR&quot;</td><td>&quot;SARGEANT&quot;</td><td>1</td><td>&quot;#005aff&quot;</td></tr><tr><td>&quot;VET&quot;</td><td>&quot;VETTEL&quot;</td><td>0</td><td>&quot;#006f62&quot;</td></tr><tr><td>&quot;LAT&quot;</td><td>&quot;LATIFI&quot;</td><td>0</td><td>&quot;#005aff&quot;</td></tr><tr><td>&quot;MSC&quot;</td><td>&quot;SCHUMACHER&quot;</td><td>0</td><td>&quot;#ffffff&quot;</td></tr><tr><td>null</td><td>&quot;GIOVINAZZI&quot;</td><td>0</td><td>null</td></tr><tr><td>null</td><td>&quot;MAZEPIN&quot;</td><td>0</td><td>null</td></tr><tr><td>&quot;DEV&quot;</td><td>&quot;DEVRIES&quot;</td><td>0</td><td>&quot;#2b4562&quot;</td></tr><tr><td>null</td><td>&quot;LAWSON&quot;</td><td>0</td><td>null</td></tr></tbody></table></div>"
      ],
      "text/plain": [
       "shape: (29, 4)\n",
       "┌──────┬────────────┬────────┬─────────┐\n",
       "│ id   ┆ name       ┆ active ┆ color   │\n",
       "│ ---  ┆ ---        ┆ ---    ┆ ---     │\n",
       "│ str  ┆ str        ┆ i64    ┆ str     │\n",
       "╞══════╪════════════╪════════╪═════════╡\n",
       "│ VER  ┆ VERSTAPPEN ┆ 1      ┆ #0600ef │\n",
       "│ PER  ┆ PEREZ      ┆ 1      ┆ #0600ef │\n",
       "│ NOR  ┆ NORRIS     ┆ 1      ┆ #FF9800 │\n",
       "│ PIA  ┆ PIASTRI    ┆ 1      ┆ #FF9800 │\n",
       "│ HAM  ┆ HAMILTON   ┆ 1      ┆ #00d2be │\n",
       "│ …    ┆ …          ┆ …      ┆ …       │\n",
       "│ MSC  ┆ SCHUMACHER ┆ 0      ┆ #ffffff │\n",
       "│ null ┆ GIOVINAZZI ┆ 0      ┆ null    │\n",
       "│ null ┆ MAZEPIN    ┆ 0      ┆ null    │\n",
       "│ DEV  ┆ DEVRIES    ┆ 0      ┆ #2b4562 │\n",
       "│ null ┆ LAWSON     ┆ 0      ┆ null    │\n",
       "└──────┴────────────┴────────┴─────────┘"
      ]
     },
     "execution_count": 105,
     "metadata": {},
     "output_type": "execute_result"
    }
   ],
   "source": [
    "dfl = pl.scan_parquet('data/bronze/fantasy/driver_fantasy_attributes.parquet').select('id', 'color').unique().collect()\n",
    "dfr = pl.scan_csv('src/utils/driver_mapping.csv').collect()\n",
    "dfl.join(dfr, on='id', how='outer').select(*dfr.columns, 'color')"
   ]
  },
  {
   "cell_type": "code",
   "execution_count": 100,
   "id": "3e8a3476",
   "metadata": {},
   "outputs": [
    {
     "data": {
      "text/html": [
       "<div><style>\n",
       ".dataframe > thead > tr,\n",
       ".dataframe > tbody > tr {\n",
       "  text-align: right;\n",
       "  white-space: pre-wrap;\n",
       "}\n",
       "</style>\n",
       "<small>shape: (26, 2)</small><table border=\"1\" class=\"dataframe\"><thead><tr><th>id</th><th>color</th></tr><tr><td>str</td><td>str</td></tr></thead><tbody><tr><td>&quot;OCO&quot;</td><td>&quot;#0090ff&quot;</td></tr><tr><td>&quot;MSC&quot;</td><td>&quot;#ffffff&quot;</td></tr><tr><td>&quot;BOT&quot;</td><td>&quot;#900000&quot;</td></tr><tr><td>&quot;RUS&quot;</td><td>&quot;#00d2be&quot;</td></tr><tr><td>&quot;ALB&quot;</td><td>&quot;#005aff&quot;</td></tr><tr><td>&quot;SAR&quot;</td><td>&quot;#005aff&quot;</td></tr><tr><td>&quot;MAG&quot;</td><td>&quot;#ffffff&quot;</td></tr><tr><td>&quot;ALO&quot;</td><td>&quot;#0090ff&quot;</td></tr><tr><td>&quot;GAS&quot;</td><td>&quot;#0090ff&quot;</td></tr><tr><td>&quot;LEC&quot;</td><td>&quot;#dc0000&quot;</td></tr><tr><td>&quot;GAS&quot;</td><td>&quot;#2b4562&quot;</td></tr><tr><td>&quot;STR&quot;</td><td>&quot;#006f62&quot;</td></tr><tr><td>&hellip;</td><td>&hellip;</td></tr><tr><td>&quot;HUL&quot;</td><td>&quot;#ffffff&quot;</td></tr><tr><td>&quot;ALO&quot;</td><td>&quot;#006f62&quot;</td></tr><tr><td>&quot;PIA&quot;</td><td>&quot;#FF9800&quot;</td></tr><tr><td>&quot;VER&quot;</td><td>&quot;#0600ef&quot;</td></tr><tr><td>&quot;HAM&quot;</td><td>&quot;#00d2be&quot;</td></tr><tr><td>&quot;SAI&quot;</td><td>&quot;#dc0000&quot;</td></tr><tr><td>&quot;ZHO&quot;</td><td>&quot;#900000&quot;</td></tr><tr><td>&quot;NOR&quot;</td><td>&quot;#FF9800&quot;</td></tr><tr><td>&quot;PER&quot;</td><td>&quot;#0600ef&quot;</td></tr><tr><td>&quot;VET&quot;</td><td>&quot;#006f62&quot;</td></tr><tr><td>&quot;RIC&quot;</td><td>&quot;#FF9800&quot;</td></tr><tr><td>&quot;TSU&quot;</td><td>&quot;#2b4562&quot;</td></tr></tbody></table></div>"
      ],
      "text/plain": [
       "shape: (26, 2)\n",
       "┌─────┬─────────┐\n",
       "│ id  ┆ color   │\n",
       "│ --- ┆ ---     │\n",
       "│ str ┆ str     │\n",
       "╞═════╪═════════╡\n",
       "│ OCO ┆ #0090ff │\n",
       "│ MSC ┆ #ffffff │\n",
       "│ BOT ┆ #900000 │\n",
       "│ RUS ┆ #00d2be │\n",
       "│ ALB ┆ #005aff │\n",
       "│ …   ┆ …       │\n",
       "│ NOR ┆ #FF9800 │\n",
       "│ PER ┆ #0600ef │\n",
       "│ VET ┆ #006f62 │\n",
       "│ RIC ┆ #FF9800 │\n",
       "│ TSU ┆ #2b4562 │\n",
       "└─────┴─────────┘"
      ]
     },
     "execution_count": 100,
     "metadata": {},
     "output_type": "execute_result"
    }
   ],
   "source": [
    "pl.scan_parquet('data/bronze/fantasy/driver_fantasy_attributes.parquet').select('id', 'color').unique().collect()"
   ]
  },
  {
   "cell_type": "code",
   "execution_count": 98,
   "id": "660679de",
   "metadata": {},
   "outputs": [
    {
     "data": {
      "text/html": [
       "<div><style>\n",
       ".dataframe > thead > tr,\n",
       ".dataframe > tbody > tr {\n",
       "  text-align: right;\n",
       "  white-space: pre-wrap;\n",
       "}\n",
       "</style>\n",
       "<small>shape: (29, 5)</small><table border=\"1\" class=\"dataframe\"><thead><tr><th>id</th><th>name</th><th>active</th><th>color</th><th>last_updated</th></tr><tr><td>str</td><td>str</td><td>i64</td><td>str</td><td>datetime[μs]</td></tr></thead><tbody><tr><td>&quot;VER&quot;</td><td>&quot;VERSTAPPEN&quot;</td><td>1</td><td>&quot;#0600ef&quot;</td><td>2024-02-19 18:09:35</td></tr><tr><td>&quot;PER&quot;</td><td>&quot;PEREZ&quot;</td><td>1</td><td>&quot;#0600ef&quot;</td><td>2024-02-19 18:09:35</td></tr><tr><td>&quot;NOR&quot;</td><td>&quot;NORRIS&quot;</td><td>1</td><td>&quot;#FF9800&quot;</td><td>2024-02-19 18:09:35</td></tr><tr><td>&quot;PIA&quot;</td><td>&quot;PIASTRI&quot;</td><td>1</td><td>&quot;#FF9800&quot;</td><td>2024-02-19 18:09:35</td></tr><tr><td>&quot;HAM&quot;</td><td>&quot;HAMILTON&quot;</td><td>1</td><td>&quot;#00d2be&quot;</td><td>2024-02-19 18:09:35</td></tr><tr><td>&quot;RUS&quot;</td><td>&quot;RUSSELL&quot;</td><td>1</td><td>&quot;#00d2be&quot;</td><td>2024-02-19 18:09:35</td></tr><tr><td>&quot;LEC&quot;</td><td>&quot;LECLERC&quot;</td><td>1</td><td>&quot;#dc0000&quot;</td><td>2024-02-19 18:09:35</td></tr><tr><td>&quot;SAI&quot;</td><td>&quot;SAINZ&quot;</td><td>1</td><td>&quot;#dc0000&quot;</td><td>2024-02-19 18:09:35</td></tr><tr><td>&quot;ALO&quot;</td><td>&quot;ALONSO&quot;</td><td>1</td><td>&quot;#006f62&quot;</td><td>2024-02-19 18:09:35</td></tr><tr><td>&quot;ALO&quot;</td><td>&quot;ALONSO&quot;</td><td>1</td><td>&quot;#006f62&quot;</td><td>2024-02-19 18:09:35</td></tr><tr><td>&quot;STR&quot;</td><td>&quot;STROLL&quot;</td><td>1</td><td>&quot;#006f62&quot;</td><td>2024-02-19 18:09:35</td></tr><tr><td>&quot;RIC&quot;</td><td>&quot;RICCIARDO&quot;</td><td>1</td><td>&quot;#1434cb&quot;</td><td>2024-02-19 18:09:35</td></tr><tr><td>&hellip;</td><td>&hellip;</td><td>&hellip;</td><td>&hellip;</td><td>&hellip;</td></tr><tr><td>&quot;ZHO&quot;</td><td>&quot;ZHOU&quot;</td><td>1</td><td>&quot;#00E701&quot;</td><td>2024-02-19 18:09:35</td></tr><tr><td>&quot;BOT&quot;</td><td>&quot;BOTTAS&quot;</td><td>1</td><td>&quot;#00E701&quot;</td><td>2024-02-19 18:09:35</td></tr><tr><td>&quot;HUL&quot;</td><td>&quot;HULKENBERG&quot;</td><td>1</td><td>&quot;#ffffff&quot;</td><td>2024-02-19 18:09:35</td></tr><tr><td>&quot;MAG&quot;</td><td>&quot;MAGNUSSEN&quot;</td><td>1</td><td>&quot;#ffffff&quot;</td><td>2024-02-19 18:09:35</td></tr><tr><td>&quot;SAR&quot;</td><td>&quot;SARGEANT&quot;</td><td>1</td><td>&quot;#005aff&quot;</td><td>2024-02-19 18:09:35</td></tr><tr><td>&quot;VET&quot;</td><td>&quot;VETTEL&quot;</td><td>0</td><td>null</td><td>null</td></tr><tr><td>&quot;LAT&quot;</td><td>&quot;LATIFI&quot;</td><td>0</td><td>null</td><td>null</td></tr><tr><td>&quot;MSC&quot;</td><td>&quot;SCHUMACHER&quot;</td><td>0</td><td>null</td><td>null</td></tr><tr><td>&quot;GIO&quot;</td><td>&quot;GIOVINAZZI&quot;</td><td>0</td><td>null</td><td>null</td></tr><tr><td>&quot;MAZ&quot;</td><td>&quot;MAZEPIN&quot;</td><td>0</td><td>null</td><td>null</td></tr><tr><td>&quot;DEV&quot;</td><td>&quot;DEVRIES&quot;</td><td>0</td><td>null</td><td>null</td></tr><tr><td>&quot;LAW&quot;</td><td>&quot;LAWSON&quot;</td><td>0</td><td>null</td><td>null</td></tr></tbody></table></div>"
      ],
      "text/plain": [
       "shape: (29, 5)\n",
       "┌─────┬────────────┬────────┬─────────┬─────────────────────┐\n",
       "│ id  ┆ name       ┆ active ┆ color   ┆ last_updated        │\n",
       "│ --- ┆ ---        ┆ ---    ┆ ---     ┆ ---                 │\n",
       "│ str ┆ str        ┆ i64    ┆ str     ┆ datetime[μs]        │\n",
       "╞═════╪════════════╪════════╪═════════╪═════════════════════╡\n",
       "│ VER ┆ VERSTAPPEN ┆ 1      ┆ #0600ef ┆ 2024-02-19 18:09:35 │\n",
       "│ PER ┆ PEREZ      ┆ 1      ┆ #0600ef ┆ 2024-02-19 18:09:35 │\n",
       "│ NOR ┆ NORRIS     ┆ 1      ┆ #FF9800 ┆ 2024-02-19 18:09:35 │\n",
       "│ PIA ┆ PIASTRI    ┆ 1      ┆ #FF9800 ┆ 2024-02-19 18:09:35 │\n",
       "│ HAM ┆ HAMILTON   ┆ 1      ┆ #00d2be ┆ 2024-02-19 18:09:35 │\n",
       "│ …   ┆ …          ┆ …      ┆ …       ┆ …                   │\n",
       "│ MSC ┆ SCHUMACHER ┆ 0      ┆ null    ┆ null                │\n",
       "│ GIO ┆ GIOVINAZZI ┆ 0      ┆ null    ┆ null                │\n",
       "│ MAZ ┆ MAZEPIN    ┆ 0      ┆ null    ┆ null                │\n",
       "│ DEV ┆ DEVRIES    ┆ 0      ┆ null    ┆ null                │\n",
       "│ LAW ┆ LAWSON     ┆ 0      ┆ null    ┆ null                │\n",
       "└─────┴────────────┴────────┴─────────┴─────────────────────┘"
      ]
     },
     "execution_count": 98,
     "metadata": {},
     "output_type": "execute_result"
    }
   ],
   "source": [
    "pl.read_parquet('data/bronze/fantasy/drivers.parquet')"
   ]
  },
  {
   "cell_type": "code",
   "execution_count": 80,
   "id": "c5760878",
   "metadata": {},
   "outputs": [
    {
     "data": {
      "text/html": [
       "<div><style>\n",
       ".dataframe > thead > tr,\n",
       ".dataframe > tbody > tr {\n",
       "  text-align: right;\n",
       "  white-space: pre-wrap;\n",
       "}\n",
       "</style>\n",
       "<small>shape: (20, 10)</small><table border=\"1\" class=\"dataframe\"><thead><tr><th>abbreviation</th><th>average_PPM</th><th>average_season_score</th><th>color</th><th>old_price</th><th>previous_season_price</th><th>price</th><th>last_updated</th><th>name</th><th>active</th></tr><tr><td>str</td><td>f64</td><td>i64</td><td>str</td><td>f64</td><td>f64</td><td>f64</td><td>datetime[μs]</td><td>str</td><td>i64</td></tr></thead><tbody><tr><td>&quot;VER&quot;</td><td>0.0</td><td>0</td><td>&quot;#0600ef&quot;</td><td>30.0</td><td>30.0</td><td>30.0</td><td>2024-02-19 18:09:35</td><td>&quot;VERSTAPPEN&quot;</td><td>1</td></tr><tr><td>&quot;NOR&quot;</td><td>0.0</td><td>0</td><td>&quot;#FF9800&quot;</td><td>23.0</td><td>19.8</td><td>23.0</td><td>2024-02-19 18:09:35</td><td>&quot;NORRIS&quot;</td><td>1</td></tr><tr><td>&quot;PER&quot;</td><td>0.0</td><td>0</td><td>&quot;#0600ef&quot;</td><td>20.8</td><td>20.8</td><td>20.8</td><td>2024-02-19 18:09:35</td><td>&quot;PEREZ&quot;</td><td>1</td></tr><tr><td>&quot;HAM&quot;</td><td>0.0</td><td>0</td><td>&quot;#00d2be&quot;</td><td>19.3</td><td>25.3</td><td>19.3</td><td>2024-02-19 18:09:35</td><td>&quot;HAMILTON&quot;</td><td>1</td></tr><tr><td>&quot;LEC&quot;</td><td>0.0</td><td>0</td><td>&quot;#dc0000&quot;</td><td>19.1</td><td>23.5</td><td>19.1</td><td>2024-02-19 18:09:35</td><td>&quot;LECLERC&quot;</td><td>1</td></tr><tr><td>&quot;PIA&quot;</td><td>0.0</td><td>0</td><td>&quot;#FF9800&quot;</td><td>19.0</td><td>15.4</td><td>19.0</td><td>2024-02-19 18:09:35</td><td>&quot;PIASTRI&quot;</td><td>1</td></tr><tr><td>&quot;RUS&quot;</td><td>0.0</td><td>0</td><td>&quot;#00d2be&quot;</td><td>18.8</td><td>20.2</td><td>18.8</td><td>2024-02-19 18:09:35</td><td>&quot;RUSSELL&quot;</td><td>1</td></tr><tr><td>&quot;SAI&quot;</td><td>0.0</td><td>0</td><td>&quot;#dc0000&quot;</td><td>18.5</td><td>20.4</td><td>18.5</td><td>2024-02-19 18:09:35</td><td>&quot;SAINZ&quot;</td><td>1</td></tr><tr><td>&quot;ALO&quot;</td><td>0.0</td><td>0</td><td>&quot;#006f62&quot;</td><td>15.8</td><td>15.8</td><td>15.8</td><td>2024-02-19 18:09:35</td><td>&quot;ALONSO&quot;</td><td>1</td></tr><tr><td>&quot;STR&quot;</td><td>0.0</td><td>0</td><td>&quot;#006f62&quot;</td><td>10.7</td><td>14.0</td><td>10.7</td><td>2024-02-19 18:09:35</td><td>&quot;STROLL&quot;</td><td>1</td></tr><tr><td>&quot;RIC&quot;</td><td>0.0</td><td>0</td><td>&quot;#1434cb&quot;</td><td>9.0</td><td>5.5</td><td>9.0</td><td>2024-02-19 18:09:35</td><td>&quot;RICCIARDO&quot;</td><td>1</td></tr><tr><td>&quot;TSU&quot;</td><td>0.0</td><td>0</td><td>&quot;#1434cb&quot;</td><td>8.0</td><td>9.4</td><td>8.0</td><td>2024-02-19 18:09:35</td><td>&quot;TSUNODA&quot;</td><td>1</td></tr><tr><td>&quot;GAS&quot;</td><td>0.0</td><td>0</td><td>&quot;#0090ff&quot;</td><td>7.8</td><td>14.5</td><td>7.8</td><td>2024-02-19 18:09:35</td><td>&quot;GASLY&quot;</td><td>1</td></tr><tr><td>&quot;OCO&quot;</td><td>0.0</td><td>0</td><td>&quot;#0090ff&quot;</td><td>7.8</td><td>13.5</td><td>7.8</td><td>2024-02-19 18:09:35</td><td>&quot;OCON&quot;</td><td>1</td></tr><tr><td>&quot;ALB&quot;</td><td>0.0</td><td>0</td><td>&quot;#005aff&quot;</td><td>7.0</td><td>11.3</td><td>7.0</td><td>2024-02-19 18:09:35</td><td>&quot;ALBON&quot;</td><td>1</td></tr><tr><td>&quot;ZHO&quot;</td><td>0.0</td><td>0</td><td>&quot;#00E701&quot;</td><td>6.6</td><td>7.7</td><td>6.6</td><td>2024-02-19 18:09:35</td><td>&quot;ZHOU&quot;</td><td>1</td></tr><tr><td>&quot;BOT&quot;</td><td>0.0</td><td>0</td><td>&quot;#00E701&quot;</td><td>6.4</td><td>9.6</td><td>6.4</td><td>2024-02-19 18:09:35</td><td>&quot;BOTTAS&quot;</td><td>1</td></tr><tr><td>&quot;HUL&quot;</td><td>0.0</td><td>0</td><td>&quot;#ffffff&quot;</td><td>6.4</td><td>6.2</td><td>6.4</td><td>2024-02-19 18:09:35</td><td>&quot;HULKENBERG&quot;</td><td>1</td></tr><tr><td>&quot;MAG&quot;</td><td>0.0</td><td>0</td><td>&quot;#ffffff&quot;</td><td>6.2</td><td>9.6</td><td>6.2</td><td>2024-02-19 18:09:35</td><td>&quot;MAGNUSSEN&quot;</td><td>1</td></tr><tr><td>&quot;SAR&quot;</td><td>0.0</td><td>0</td><td>&quot;#005aff&quot;</td><td>5.5</td><td>5.8</td><td>5.5</td><td>2024-02-19 18:09:35</td><td>&quot;SARGEANT&quot;</td><td>1</td></tr></tbody></table></div>"
      ],
      "text/plain": [
       "shape: (20, 10)\n",
       "┌─────────────┬─────────────┬─────────────┬─────────┬───┬───────┬────────────┬────────────┬────────┐\n",
       "│ abbreviatio ┆ average_PPM ┆ average_sea ┆ color   ┆ … ┆ price ┆ last_updat ┆ name       ┆ active │\n",
       "│ n           ┆ ---         ┆ son_score   ┆ ---     ┆   ┆ ---   ┆ ed         ┆ ---        ┆ ---    │\n",
       "│ ---         ┆ f64         ┆ ---         ┆ str     ┆   ┆ f64   ┆ ---        ┆ str        ┆ i64    │\n",
       "│ str         ┆             ┆ i64         ┆         ┆   ┆       ┆ datetime[μ ┆            ┆        │\n",
       "│             ┆             ┆             ┆         ┆   ┆       ┆ s]         ┆            ┆        │\n",
       "╞═════════════╪═════════════╪═════════════╪═════════╪═══╪═══════╪════════════╪════════════╪════════╡\n",
       "│ VER         ┆ 0.0         ┆ 0           ┆ #0600ef ┆ … ┆ 30.0  ┆ 2024-02-19 ┆ VERSTAPPEN ┆ 1      │\n",
       "│             ┆             ┆             ┆         ┆   ┆       ┆ 18:09:35   ┆            ┆        │\n",
       "│ NOR         ┆ 0.0         ┆ 0           ┆ #FF9800 ┆ … ┆ 23.0  ┆ 2024-02-19 ┆ NORRIS     ┆ 1      │\n",
       "│             ┆             ┆             ┆         ┆   ┆       ┆ 18:09:35   ┆            ┆        │\n",
       "│ PER         ┆ 0.0         ┆ 0           ┆ #0600ef ┆ … ┆ 20.8  ┆ 2024-02-19 ┆ PEREZ      ┆ 1      │\n",
       "│             ┆             ┆             ┆         ┆   ┆       ┆ 18:09:35   ┆            ┆        │\n",
       "│ HAM         ┆ 0.0         ┆ 0           ┆ #00d2be ┆ … ┆ 19.3  ┆ 2024-02-19 ┆ HAMILTON   ┆ 1      │\n",
       "│             ┆             ┆             ┆         ┆   ┆       ┆ 18:09:35   ┆            ┆        │\n",
       "│ LEC         ┆ 0.0         ┆ 0           ┆ #dc0000 ┆ … ┆ 19.1  ┆ 2024-02-19 ┆ LECLERC    ┆ 1      │\n",
       "│             ┆             ┆             ┆         ┆   ┆       ┆ 18:09:35   ┆            ┆        │\n",
       "│ …           ┆ …           ┆ …           ┆ …       ┆ … ┆ …     ┆ …          ┆ …          ┆ …      │\n",
       "│ ZHO         ┆ 0.0         ┆ 0           ┆ #00E701 ┆ … ┆ 6.6   ┆ 2024-02-19 ┆ ZHOU       ┆ 1      │\n",
       "│             ┆             ┆             ┆         ┆   ┆       ┆ 18:09:35   ┆            ┆        │\n",
       "│ BOT         ┆ 0.0         ┆ 0           ┆ #00E701 ┆ … ┆ 6.4   ┆ 2024-02-19 ┆ BOTTAS     ┆ 1      │\n",
       "│             ┆             ┆             ┆         ┆   ┆       ┆ 18:09:35   ┆            ┆        │\n",
       "│ HUL         ┆ 0.0         ┆ 0           ┆ #ffffff ┆ … ┆ 6.4   ┆ 2024-02-19 ┆ HULKENBERG ┆ 1      │\n",
       "│             ┆             ┆             ┆         ┆   ┆       ┆ 18:09:35   ┆            ┆        │\n",
       "│ MAG         ┆ 0.0         ┆ 0           ┆ #ffffff ┆ … ┆ 6.2   ┆ 2024-02-19 ┆ MAGNUSSEN  ┆ 1      │\n",
       "│             ┆             ┆             ┆         ┆   ┆       ┆ 18:09:35   ┆            ┆        │\n",
       "│ SAR         ┆ 0.0         ┆ 0           ┆ #005aff ┆ … ┆ 5.5   ┆ 2024-02-19 ┆ SARGEANT   ┆ 1      │\n",
       "│             ┆             ┆             ┆         ┆   ┆       ┆ 18:09:35   ┆            ┆        │\n",
       "└─────────────┴─────────────┴─────────────┴─────────┴───┴───────┴────────────┴────────────┴────────┘"
      ]
     },
     "execution_count": 80,
     "metadata": {},
     "output_type": "execute_result"
    }
   ],
   "source": [
    "df = pl.read_parquet('data/bronze/fantasy/drivers.parquet')\n",
    "df1 = pl.read_csv('src/utils/driver_mapping.csv')\n",
    "df.join(df1, left_on='abbreviation', right_on='id', how='left')"
   ]
  },
  {
   "cell_type": "code",
   "execution_count": 77,
   "id": "e50b1856",
   "metadata": {},
   "outputs": [
    {
     "data": {
      "text/html": [
       "<div><style>\n",
       ".dataframe > thead > tr,\n",
       ".dataframe > tbody > tr {\n",
       "  text-align: right;\n",
       "  white-space: pre-wrap;\n",
       "}\n",
       "</style>\n",
       "<small>shape: (27, 3)</small><table border=\"1\" class=\"dataframe\"><thead><tr><th>id</th><th>name</th><th>active</th></tr><tr><td>str</td><td>str</td><td>i64</td></tr></thead><tbody><tr><td>&quot;VER&quot;</td><td>&quot;VERSTAPPEN&quot;</td><td>1</td></tr><tr><td>&quot;PER&quot;</td><td>&quot;PEREZ&quot;</td><td>1</td></tr><tr><td>&quot;NOR&quot;</td><td>&quot;NORRIS&quot;</td><td>1</td></tr><tr><td>&quot;PIA&quot;</td><td>&quot;PIASTRI&quot;</td><td>1</td></tr><tr><td>&quot;HAM&quot;</td><td>&quot;HAMILTON&quot;</td><td>1</td></tr><tr><td>&quot;RUS&quot;</td><td>&quot;RUSSELL&quot;</td><td>1</td></tr><tr><td>&quot;LEC&quot;</td><td>&quot;LECLERC&quot;</td><td>1</td></tr><tr><td>&quot;SAI&quot;</td><td>&quot;SAINZ&quot;</td><td>1</td></tr><tr><td>&quot;ALO&quot;</td><td>&quot;ALONSO&quot;</td><td>1</td></tr><tr><td>&quot;STR&quot;</td><td>&quot;STROLL&quot;</td><td>1</td></tr><tr><td>&quot;RIC&quot;</td><td>&quot;RICCIARDO&quot;</td><td>1</td></tr><tr><td>&quot;TSU&quot;</td><td>&quot;TSUNODA&quot;</td><td>1</td></tr><tr><td>&hellip;</td><td>&hellip;</td><td>&hellip;</td></tr><tr><td>&quot;ZHO&quot;</td><td>&quot;ZHOU&quot;</td><td>1</td></tr><tr><td>&quot;BOT&quot;</td><td>&quot;BOTTAS&quot;</td><td>1</td></tr><tr><td>&quot;HUL&quot;</td><td>&quot;HULKENBERG&quot;</td><td>1</td></tr><tr><td>&quot;MAG&quot;</td><td>&quot;MAGNUSSEN&quot;</td><td>1</td></tr><tr><td>&quot;SAR&quot;</td><td>&quot;SARGEANT&quot;</td><td>1</td></tr><tr><td>&quot;VET&quot;</td><td>&quot;VETTEL&quot;</td><td>0</td></tr><tr><td>&quot;LAT&quot;</td><td>&quot;LATIFI&quot;</td><td>0</td></tr><tr><td>&quot;MSC&quot;</td><td>&quot;SCHUMACHER&quot;</td><td>0</td></tr><tr><td>&quot;GIO&quot;</td><td>&quot;GIOVINAZZI&quot;</td><td>0</td></tr><tr><td>&quot;MAZ&quot;</td><td>&quot;MAZEPIN&quot;</td><td>0</td></tr><tr><td>&quot;DEV&quot;</td><td>&quot;DEVRIES&quot;</td><td>0</td></tr><tr><td>&quot;LAW&quot;</td><td>&quot;LAWSON&quot;</td><td>0</td></tr></tbody></table></div>"
      ],
      "text/plain": [
       "shape: (27, 3)\n",
       "┌─────┬────────────┬────────┐\n",
       "│ id  ┆ name       ┆ active │\n",
       "│ --- ┆ ---        ┆ ---    │\n",
       "│ str ┆ str        ┆ i64    │\n",
       "╞═════╪════════════╪════════╡\n",
       "│ VER ┆ VERSTAPPEN ┆ 1      │\n",
       "│ PER ┆ PEREZ      ┆ 1      │\n",
       "│ NOR ┆ NORRIS     ┆ 1      │\n",
       "│ PIA ┆ PIASTRI    ┆ 1      │\n",
       "│ HAM ┆ HAMILTON   ┆ 1      │\n",
       "│ …   ┆ …          ┆ …      │\n",
       "│ MSC ┆ SCHUMACHER ┆ 0      │\n",
       "│ GIO ┆ GIOVINAZZI ┆ 0      │\n",
       "│ MAZ ┆ MAZEPIN    ┆ 0      │\n",
       "│ DEV ┆ DEVRIES    ┆ 0      │\n",
       "│ LAW ┆ LAWSON     ┆ 0      │\n",
       "└─────┴────────────┴────────┘"
      ]
     },
     "execution_count": 77,
     "metadata": {},
     "output_type": "execute_result"
    }
   ],
   "source": []
  },
  {
   "cell_type": "code",
   "execution_count": 75,
   "id": "ea3595c1",
   "metadata": {},
   "outputs": [
    {
     "data": {
      "text/plain": [
       "['id', 'name', 'active', 'team_id', 'team']"
      ]
     },
     "execution_count": 75,
     "metadata": {},
     "output_type": "execute_result"
    }
   ],
   "source": [
    "pl.read_csv('src/utils/constructor_mapping.csv').columns"
   ]
  },
  {
   "cell_type": "code",
   "execution_count": 69,
   "id": "912f8a7a",
   "metadata": {},
   "outputs": [
    {
     "data": {
      "text/html": [
       "<div><style>\n",
       ".dataframe > thead > tr,\n",
       ".dataframe > tbody > tr {\n",
       "  text-align: right;\n",
       "  white-space: pre-wrap;\n",
       "}\n",
       "</style>\n",
       "<small>shape: (10, 8)</small><table border=\"1\" class=\"dataframe\"><thead><tr><th>abbreviation</th><th>average_PPM</th><th>average_season_score</th><th>color</th><th>old_price</th><th>previous_season_price</th><th>price</th><th>last_updated</th></tr><tr><td>str</td><td>f64</td><td>i64</td><td>str</td><td>f64</td><td>f64</td><td>f64</td><td>datetime[μs]</td></tr></thead><tbody><tr><td>&quot;RED&quot;</td><td>0.0</td><td>0</td><td>&quot;#0600ef&quot;</td><td>27.9</td><td>29.7</td><td>27.9</td><td>2024-02-19 18:09:35</td></tr><tr><td>&quot;MCL&quot;</td><td>0.0</td><td>0</td><td>&quot;#FF9800&quot;</td><td>23.2</td><td>17.1</td><td>23.2</td><td>2024-02-19 18:09:35</td></tr><tr><td>&quot;MER&quot;</td><td>0.0</td><td>0</td><td>&quot;#00d2be&quot;</td><td>20.1</td><td>26.0</td><td>20.1</td><td>2024-02-19 18:09:35</td></tr><tr><td>&quot;FER&quot;</td><td>0.0</td><td>0</td><td>&quot;#dc0000&quot;</td><td>19.3</td><td>25.0</td><td>19.3</td><td>2024-02-19 18:09:35</td></tr><tr><td>&quot;AST&quot;</td><td>0.0</td><td>0</td><td>&quot;#006f62&quot;</td><td>13.6</td><td>13.4</td><td>13.6</td><td>2024-02-19 18:09:35</td></tr><tr><td>&quot;VRB&quot;</td><td>0.0</td><td>0</td><td>&quot;#1434cb&quot;</td><td>8.5</td><td>8.7</td><td>8.5</td><td>2024-02-19 18:09:35</td></tr><tr><td>&quot;ALP&quot;</td><td>0.0</td><td>0</td><td>&quot;#0090ff&quot;</td><td>8.4</td><td>14.2</td><td>8.4</td><td>2024-02-19 18:09:35</td></tr><tr><td>&quot;KCK&quot;</td><td>0.0</td><td>0</td><td>&quot;#00E701&quot;</td><td>6.6</td><td>6.6</td><td>6.6</td><td>2024-02-19 18:09:35</td></tr><tr><td>&quot;HAA&quot;</td><td>0.0</td><td>0</td><td>&quot;#ffffff&quot;</td><td>6.3</td><td>7.2</td><td>6.3</td><td>2024-02-19 18:09:35</td></tr><tr><td>&quot;WIL&quot;</td><td>0.0</td><td>0</td><td>&quot;#005aff&quot;</td><td>6.3</td><td>7.8</td><td>6.3</td><td>2024-02-19 18:09:35</td></tr></tbody></table></div>"
      ],
      "text/plain": [
       "shape: (10, 8)\n",
       "┌─────────────┬─────────────┬─────────────┬─────────┬───────────┬─────────────┬───────┬────────────┐\n",
       "│ abbreviatio ┆ average_PPM ┆ average_sea ┆ color   ┆ old_price ┆ previous_se ┆ price ┆ last_updat │\n",
       "│ n           ┆ ---         ┆ son_score   ┆ ---     ┆ ---       ┆ ason_price  ┆ ---   ┆ ed         │\n",
       "│ ---         ┆ f64         ┆ ---         ┆ str     ┆ f64       ┆ ---         ┆ f64   ┆ ---        │\n",
       "│ str         ┆             ┆ i64         ┆         ┆           ┆ f64         ┆       ┆ datetime[μ │\n",
       "│             ┆             ┆             ┆         ┆           ┆             ┆       ┆ s]         │\n",
       "╞═════════════╪═════════════╪═════════════╪═════════╪═══════════╪═════════════╪═══════╪════════════╡\n",
       "│ RED         ┆ 0.0         ┆ 0           ┆ #0600ef ┆ 27.9      ┆ 29.7        ┆ 27.9  ┆ 2024-02-19 │\n",
       "│             ┆             ┆             ┆         ┆           ┆             ┆       ┆ 18:09:35   │\n",
       "│ MCL         ┆ 0.0         ┆ 0           ┆ #FF9800 ┆ 23.2      ┆ 17.1        ┆ 23.2  ┆ 2024-02-19 │\n",
       "│             ┆             ┆             ┆         ┆           ┆             ┆       ┆ 18:09:35   │\n",
       "│ MER         ┆ 0.0         ┆ 0           ┆ #00d2be ┆ 20.1      ┆ 26.0        ┆ 20.1  ┆ 2024-02-19 │\n",
       "│             ┆             ┆             ┆         ┆           ┆             ┆       ┆ 18:09:35   │\n",
       "│ FER         ┆ 0.0         ┆ 0           ┆ #dc0000 ┆ 19.3      ┆ 25.0        ┆ 19.3  ┆ 2024-02-19 │\n",
       "│             ┆             ┆             ┆         ┆           ┆             ┆       ┆ 18:09:35   │\n",
       "│ AST         ┆ 0.0         ┆ 0           ┆ #006f62 ┆ 13.6      ┆ 13.4        ┆ 13.6  ┆ 2024-02-19 │\n",
       "│             ┆             ┆             ┆         ┆           ┆             ┆       ┆ 18:09:35   │\n",
       "│ VRB         ┆ 0.0         ┆ 0           ┆ #1434cb ┆ 8.5       ┆ 8.7         ┆ 8.5   ┆ 2024-02-19 │\n",
       "│             ┆             ┆             ┆         ┆           ┆             ┆       ┆ 18:09:35   │\n",
       "│ ALP         ┆ 0.0         ┆ 0           ┆ #0090ff ┆ 8.4       ┆ 14.2        ┆ 8.4   ┆ 2024-02-19 │\n",
       "│             ┆             ┆             ┆         ┆           ┆             ┆       ┆ 18:09:35   │\n",
       "│ KCK         ┆ 0.0         ┆ 0           ┆ #00E701 ┆ 6.6       ┆ 6.6         ┆ 6.6   ┆ 2024-02-19 │\n",
       "│             ┆             ┆             ┆         ┆           ┆             ┆       ┆ 18:09:35   │\n",
       "│ HAA         ┆ 0.0         ┆ 0           ┆ #ffffff ┆ 6.3       ┆ 7.2         ┆ 6.3   ┆ 2024-02-19 │\n",
       "│             ┆             ┆             ┆         ┆           ┆             ┆       ┆ 18:09:35   │\n",
       "│ WIL         ┆ 0.0         ┆ 0           ┆ #005aff ┆ 6.3       ┆ 7.8         ┆ 6.3   ┆ 2024-02-19 │\n",
       "│             ┆             ┆             ┆         ┆           ┆             ┆       ┆ 18:09:35   │\n",
       "└─────────────┴─────────────┴─────────────┴─────────┴───────────┴─────────────┴───────┴────────────┘"
      ]
     },
     "execution_count": 69,
     "metadata": {},
     "output_type": "execute_result"
    }
   ],
   "source": [
    "pl.read_parquet('data/bronze/fantasy/constructors.parquet')"
   ]
  },
  {
   "cell_type": "code",
   "execution_count": 3,
   "id": "398e6ecc",
   "metadata": {},
   "outputs": [],
   "source": [
    "import json"
   ]
  },
  {
   "cell_type": "code",
   "execution_count": 56,
   "id": "91c110bd",
   "metadata": {},
   "outputs": [],
   "source": [
    "with open(f'data/landing/fantasy/2022/fantasy_assets.json', 'r') as f:\n",
    "        f2022 = json.load(f)"
   ]
  },
  {
   "cell_type": "code",
   "execution_count": 45,
   "id": "59ecf346",
   "metadata": {},
   "outputs": [],
   "source": [
    "with open(f'data/landing/fantasy/2023/fantasy_assets.json', 'r') as f:\n",
    "        f2023 = json.load(f)"
   ]
  },
  {
   "cell_type": "code",
   "execution_count": 46,
   "id": "b11e8bd7",
   "metadata": {},
   "outputs": [],
   "source": [
    "with open(f'data/landing/fantasy/2023/fantasy_assets.json', 'r') as f:\n",
    "        f2024 = json.load(f)"
   ]
  },
  {
   "cell_type": "code",
   "execution_count": 57,
   "id": "da09e99b",
   "metadata": {},
   "outputs": [
    {
     "data": {
      "text/html": [
       "<div><style>\n",
       ".dataframe > thead > tr,\n",
       ".dataframe > tbody > tr {\n",
       "  text-align: right;\n",
       "  white-space: pre-wrap;\n",
       "}\n",
       "</style>\n",
       "<small>shape: (20, 7)</small><table border=\"1\" class=\"dataframe\"><thead><tr><th>abbreviation</th><th>average_PPM</th><th>average_season_score</th><th>color</th><th>old_price</th><th>previous_season_price</th><th>price</th></tr><tr><td>str</td><td>f64</td><td>i64</td><td>str</td><td>f64</td><td>f64</td><td>f64</td></tr></thead><tbody><tr><td>&quot;VER&quot;</td><td>0.0</td><td>0</td><td>&quot;#0600ef&quot;</td><td>30.0</td><td>30.0</td><td>30.0</td></tr><tr><td>&quot;NOR&quot;</td><td>0.0</td><td>0</td><td>&quot;#FF9800&quot;</td><td>23.0</td><td>19.8</td><td>23.0</td></tr><tr><td>&quot;PER&quot;</td><td>0.0</td><td>0</td><td>&quot;#0600ef&quot;</td><td>20.8</td><td>20.8</td><td>20.8</td></tr><tr><td>&quot;HAM&quot;</td><td>0.0</td><td>0</td><td>&quot;#00d2be&quot;</td><td>19.3</td><td>25.3</td><td>19.3</td></tr><tr><td>&quot;LEC&quot;</td><td>0.0</td><td>0</td><td>&quot;#dc0000&quot;</td><td>19.1</td><td>23.5</td><td>19.1</td></tr><tr><td>&quot;PIA&quot;</td><td>0.0</td><td>0</td><td>&quot;#FF9800&quot;</td><td>19.0</td><td>15.4</td><td>19.0</td></tr><tr><td>&quot;RUS&quot;</td><td>0.0</td><td>0</td><td>&quot;#00d2be&quot;</td><td>18.8</td><td>20.2</td><td>18.8</td></tr><tr><td>&quot;SAI&quot;</td><td>0.0</td><td>0</td><td>&quot;#dc0000&quot;</td><td>18.5</td><td>20.4</td><td>18.5</td></tr><tr><td>&quot;ALO&quot;</td><td>0.0</td><td>0</td><td>&quot;#006f62&quot;</td><td>15.8</td><td>15.8</td><td>15.8</td></tr><tr><td>&quot;STR&quot;</td><td>0.0</td><td>0</td><td>&quot;#006f62&quot;</td><td>10.7</td><td>14.0</td><td>10.7</td></tr><tr><td>&quot;RIC&quot;</td><td>0.0</td><td>0</td><td>&quot;#1434cb&quot;</td><td>9.0</td><td>5.5</td><td>9.0</td></tr><tr><td>&quot;TSU&quot;</td><td>0.0</td><td>0</td><td>&quot;#1434cb&quot;</td><td>8.0</td><td>9.4</td><td>8.0</td></tr><tr><td>&quot;GAS&quot;</td><td>0.0</td><td>0</td><td>&quot;#0090ff&quot;</td><td>7.8</td><td>14.5</td><td>7.8</td></tr><tr><td>&quot;OCO&quot;</td><td>0.0</td><td>0</td><td>&quot;#0090ff&quot;</td><td>7.8</td><td>13.5</td><td>7.8</td></tr><tr><td>&quot;ALB&quot;</td><td>0.0</td><td>0</td><td>&quot;#005aff&quot;</td><td>7.0</td><td>11.3</td><td>7.0</td></tr><tr><td>&quot;ZHO&quot;</td><td>0.0</td><td>0</td><td>&quot;#00E701&quot;</td><td>6.6</td><td>7.7</td><td>6.6</td></tr><tr><td>&quot;BOT&quot;</td><td>0.0</td><td>0</td><td>&quot;#00E701&quot;</td><td>6.4</td><td>9.6</td><td>6.4</td></tr><tr><td>&quot;HUL&quot;</td><td>0.0</td><td>0</td><td>&quot;#ffffff&quot;</td><td>6.4</td><td>6.2</td><td>6.4</td></tr><tr><td>&quot;MAG&quot;</td><td>0.0</td><td>0</td><td>&quot;#ffffff&quot;</td><td>6.2</td><td>9.6</td><td>6.2</td></tr><tr><td>&quot;SAR&quot;</td><td>0.0</td><td>0</td><td>&quot;#005aff&quot;</td><td>5.5</td><td>5.8</td><td>5.5</td></tr></tbody></table></div>"
      ],
      "text/plain": [
       "shape: (20, 7)\n",
       "┌──────────────┬─────────────┬───────────────────┬─────────┬───────────┬───────────────────┬───────┐\n",
       "│ abbreviation ┆ average_PPM ┆ average_season_sc ┆ color   ┆ old_price ┆ previous_season_p ┆ price │\n",
       "│ ---          ┆ ---         ┆ ore               ┆ ---     ┆ ---       ┆ rice              ┆ ---   │\n",
       "│ str          ┆ f64         ┆ ---               ┆ str     ┆ f64       ┆ ---               ┆ f64   │\n",
       "│              ┆             ┆ i64               ┆         ┆           ┆ f64               ┆       │\n",
       "╞══════════════╪═════════════╪═══════════════════╪═════════╪═══════════╪═══════════════════╪═══════╡\n",
       "│ VER          ┆ 0.0         ┆ 0                 ┆ #0600ef ┆ 30.0      ┆ 30.0              ┆ 30.0  │\n",
       "│ NOR          ┆ 0.0         ┆ 0                 ┆ #FF9800 ┆ 23.0      ┆ 19.8              ┆ 23.0  │\n",
       "│ PER          ┆ 0.0         ┆ 0                 ┆ #0600ef ┆ 20.8      ┆ 20.8              ┆ 20.8  │\n",
       "│ HAM          ┆ 0.0         ┆ 0                 ┆ #00d2be ┆ 19.3      ┆ 25.3              ┆ 19.3  │\n",
       "│ LEC          ┆ 0.0         ┆ 0                 ┆ #dc0000 ┆ 19.1      ┆ 23.5              ┆ 19.1  │\n",
       "│ …            ┆ …           ┆ …                 ┆ …       ┆ …         ┆ …                 ┆ …     │\n",
       "│ ZHO          ┆ 0.0         ┆ 0                 ┆ #00E701 ┆ 6.6       ┆ 7.7               ┆ 6.6   │\n",
       "│ BOT          ┆ 0.0         ┆ 0                 ┆ #00E701 ┆ 6.4       ┆ 9.6               ┆ 6.4   │\n",
       "│ HUL          ┆ 0.0         ┆ 0                 ┆ #ffffff ┆ 6.4       ┆ 6.2               ┆ 6.4   │\n",
       "│ MAG          ┆ 0.0         ┆ 0                 ┆ #ffffff ┆ 6.2       ┆ 9.6               ┆ 6.2   │\n",
       "│ SAR          ┆ 0.0         ┆ 0                 ┆ #005aff ┆ 5.5       ┆ 5.8               ┆ 5.5   │\n",
       "└──────────────┴─────────────┴───────────────────┴─────────┴───────────┴───────────────────┴───────┘"
      ]
     },
     "execution_count": 57,
     "metadata": {},
     "output_type": "execute_result"
    }
   ],
   "source": [
    "pl.DataFrame(f2022['drivers'])"
   ]
  }
 ],
 "metadata": {
  "kernelspec": {
   "display_name": "Python 3 (ipykernel)",
   "language": "python",
   "name": "python3"
  },
  "language_info": {
   "codemirror_mode": {
    "name": "ipython",
    "version": 3
   },
   "file_extension": ".py",
   "mimetype": "text/x-python",
   "name": "python",
   "nbconvert_exporter": "python",
   "pygments_lexer": "ipython3",
   "version": "3.10.12"
  }
 },
 "nbformat": 4,
 "nbformat_minor": 5
}
