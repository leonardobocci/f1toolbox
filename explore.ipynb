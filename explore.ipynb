{
 "cells": [
  {
   "cell_type": "code",
   "execution_count": 3,
   "id": "398e6ecc",
   "metadata": {},
   "outputs": [],
   "source": [
    "import json"
   ]
  },
  {
   "cell_type": "code",
   "execution_count": 4,
   "id": "91c110bd",
   "metadata": {},
   "outputs": [],
   "source": [
    "with open(f'data/landing/fantasy/2022/driver_results.json', 'r') as f:\n",
    "        f2022 = json.load(f)"
   ]
  },
  {
   "cell_type": "code",
   "execution_count": 5,
   "id": "59ecf346",
   "metadata": {},
   "outputs": [],
   "source": [
    "with open(f'data/landing/fantasy/2023/driver_results.json', 'r') as f:\n",
    "        f2023 = json.load(f)"
   ]
  },
  {
   "cell_type": "code",
   "execution_count": 6,
   "id": "b11e8bd7",
   "metadata": {},
   "outputs": [],
   "source": [
    "with open(f'data/landing/fantasy/2023/driver_results.json', 'r') as f:\n",
    "        f2024 = json.load(f)"
   ]
  },
  {
   "cell_type": "code",
   "execution_count": 8,
   "id": "7bbc9f31",
   "metadata": {},
   "outputs": [
    {
     "data": {
      "text/plain": [
       "16"
      ]
     },
     "execution_count": 8,
     "metadata": {},
     "output_type": "execute_result"
    }
   ],
   "source": [
    "len(f2024[0]['race_results'][0]['fantasy_results'])"
   ]
  },
  {
   "cell_type": "code",
   "execution_count": 9,
   "id": "d2dd3e39",
   "metadata": {},
   "outputs": [
    {
     "data": {
      "text/plain": [
       "16"
      ]
     },
     "execution_count": 9,
     "metadata": {},
     "output_type": "execute_result"
    }
   ],
   "source": [
    "len(f2023[0]['race_results'][0]['fantasy_results'])"
   ]
  },
  {
   "cell_type": "code",
   "execution_count": 10,
   "id": "3c6e1666",
   "metadata": {},
   "outputs": [
    {
     "data": {
      "text/plain": [
       "16"
      ]
     },
     "execution_count": 10,
     "metadata": {},
     "output_type": "execute_result"
    }
   ],
   "source": [
    "len(f2022[0]['race_results'][0]['fantasy_results'])"
   ]
  },
  {
   "cell_type": "code",
   "execution_count": 13,
   "id": "5ac52504",
   "metadata": {},
   "outputs": [
    {
     "name": "stdout",
     "output_type": "stream",
     "text": [
      "quali_not_classified_points\n",
      "quali_disqualified_points\n",
      "quali_pos_points\n",
      "sprint_pos_gained_points\n",
      "sprint_overtake_points\n",
      "sprint_fastest_lap_points\n",
      "sprint_not_classified_points\n",
      "sprint_disqualified_points\n",
      "sprint_pos_points\n",
      "race_pos_gained_points\n",
      "race_overtake_points\n",
      "race_fastest_lap_points\n",
      "race_not_classified_points\n",
      "race_disqualified_points\n",
      "race_pos_points\n",
      "race_dotd_points\n"
     ]
    }
   ],
   "source": [
    "for i in range(len(f2022[0]['race_results'][0]['fantasy_results'])):\n",
    "    print(f2022[0]['race_results'][0]['fantasy_results'][i]['id'])"
   ]
  },
  {
   "cell_type": "code",
   "execution_count": 12,
   "id": "c542dcb9",
   "metadata": {},
   "outputs": [
    {
     "data": {
      "text/plain": [
       "17"
      ]
     },
     "execution_count": 12,
     "metadata": {},
     "output_type": "execute_result"
    }
   ],
   "source": [
    "len(['quali_not_classified_points',\n",
    "                        'quali_disqualified_points',\n",
    "                        'quali_pos_points',\n",
    "                        'quali_teamwork_points',\n",
    "                        'sprint_pos_gained_points',\n",
    "                        'sprint_overtake_points',\n",
    "                        'sprint_fastest_lap_points',\n",
    "                        'sprint_not_classified_points',\n",
    "                        'sprint_disqualified_points',\n",
    "                        'sprint_pos_points',\n",
    "                        'race_pos_gained_points',\n",
    "                        'race_overtake_points',\n",
    "                        'race_fastest_lap_points',\n",
    "                        'race_not_classified_points',\n",
    "                        'race_disqualified_points',\n",
    "                        'race_pos_points',\n",
    "                        'race_pit_stop_points'])"
   ]
  }
 ],
 "metadata": {
  "kernelspec": {
   "display_name": "Python 3 (ipykernel)",
   "language": "python",
   "name": "python3"
  },
  "language_info": {
   "codemirror_mode": {
    "name": "ipython",
    "version": 3
   },
   "file_extension": ".py",
   "mimetype": "text/x-python",
   "name": "python",
   "nbconvert_exporter": "python",
   "pygments_lexer": "ipython3",
   "version": "3.10.12"
  }
 },
 "nbformat": 4,
 "nbformat_minor": 5
}
