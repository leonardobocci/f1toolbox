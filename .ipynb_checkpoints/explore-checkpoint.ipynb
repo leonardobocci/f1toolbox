{
 "cells": [
  {
   "cell_type": "code",
   "execution_count": 192,
   "id": "a146810d-bb3a-4995-b20e-611f3736dd29",
   "metadata": {},
   "outputs": [
    {
     "name": "stdout",
     "output_type": "stream",
     "text": [
      "creating df\n",
      "appending df\n"
     ]
    }
   ],
   "source": [
    "import polars as pl\n",
    "years = [2022, 2023]\n",
    "\n",
    "created=False\n",
    "for year in years:\n",
    "    with open(f'data/landing/fantasy/{year}/races.json', 'r') as f:\n",
    "        file = json.load(f)\n",
    "    temp_df = pl.LazyFrame(file['races'])\n",
    "    temp_df = df.with_columns(pl.lit(year).alias('season'))\n",
    "    if not created:\n",
    "        print('creating df')\n",
    "        df = temp_df\n",
    "        created=True\n",
    "    else:\n",
    "        print('appending df')\n",
    "        df = pl.concat([df, temp_df])"
   ]
  },
  {
   "cell_type": "code",
   "execution_count": 193,
   "id": "4ee4658e-c2ba-4f81-87a0-4731e605ae34",
   "metadata": {},
   "outputs": [
    {
     "data": {
      "text/html": [
       "<div><style>\n",
       ".dataframe > thead > tr,\n",
       ".dataframe > tbody > tr {\n",
       "  text-align: right;\n",
       "  white-space: pre-wrap;\n",
       "}\n",
       "</style>\n",
       "<small>shape: (44, 5)</small><table border=\"1\" class=\"dataframe\"><thead><tr><th>country_code</th><th>event_format</th><th>has_any_results</th><th>round_number</th><th>season</th></tr><tr><td>str</td><td>str</td><td>bool</td><td>i64</td><td>i32</td></tr></thead><tbody><tr><td>&quot;BHR&quot;</td><td>&quot;conventional&quot;</td><td>true</td><td>1</td><td>2022</td></tr><tr><td>&quot;SAU&quot;</td><td>&quot;conventional&quot;</td><td>true</td><td>2</td><td>2022</td></tr><tr><td>&quot;AUS&quot;</td><td>&quot;conventional&quot;</td><td>true</td><td>3</td><td>2022</td></tr><tr><td>&quot;AZE&quot;</td><td>&quot;sprint&quot;</td><td>true</td><td>4</td><td>2022</td></tr><tr><td>&quot;USA&quot;</td><td>&quot;conventional&quot;</td><td>true</td><td>5</td><td>2022</td></tr><tr><td>&quot;MCO&quot;</td><td>&quot;conventional&quot;</td><td>true</td><td>7</td><td>2022</td></tr><tr><td>&quot;ESP&quot;</td><td>&quot;conventional&quot;</td><td>true</td><td>8</td><td>2022</td></tr><tr><td>&quot;CAN&quot;</td><td>&quot;conventional&quot;</td><td>true</td><td>9</td><td>2022</td></tr><tr><td>&quot;AUT&quot;</td><td>&quot;sprint&quot;</td><td>true</td><td>10</td><td>2022</td></tr><tr><td>&quot;GBR&quot;</td><td>&quot;conventional&quot;</td><td>true</td><td>11</td><td>2022</td></tr><tr><td>&quot;HUN&quot;</td><td>&quot;conventional&quot;</td><td>true</td><td>12</td><td>2022</td></tr><tr><td>&quot;BEL&quot;</td><td>&quot;sprint&quot;</td><td>true</td><td>13</td><td>2022</td></tr><tr><td>&hellip;</td><td>&hellip;</td><td>&hellip;</td><td>&hellip;</td><td>&hellip;</td></tr><tr><td>&quot;HUN&quot;</td><td>&quot;conventional&quot;</td><td>true</td><td>12</td><td>2023</td></tr><tr><td>&quot;BEL&quot;</td><td>&quot;sprint&quot;</td><td>true</td><td>13</td><td>2023</td></tr><tr><td>&quot;NLD&quot;</td><td>&quot;conventional&quot;</td><td>true</td><td>14</td><td>2023</td></tr><tr><td>&quot;ITA&quot;</td><td>&quot;conventional&quot;</td><td>true</td><td>15</td><td>2023</td></tr><tr><td>&quot;SGP&quot;</td><td>&quot;conventional&quot;</td><td>true</td><td>16</td><td>2023</td></tr><tr><td>&quot;JPN&quot;</td><td>&quot;conventional&quot;</td><td>true</td><td>17</td><td>2023</td></tr><tr><td>&quot;QAT&quot;</td><td>&quot;sprint&quot;</td><td>true</td><td>18</td><td>2023</td></tr><tr><td>&quot;USA&quot;</td><td>&quot;sprint&quot;</td><td>true</td><td>19</td><td>2023</td></tr><tr><td>&quot;MEX&quot;</td><td>&quot;conventional&quot;</td><td>true</td><td>20</td><td>2023</td></tr><tr><td>&quot;BRA&quot;</td><td>&quot;sprint&quot;</td><td>true</td><td>21</td><td>2023</td></tr><tr><td>&quot;USA&quot;</td><td>&quot;conventional&quot;</td><td>true</td><td>22</td><td>2023</td></tr><tr><td>&quot;ARE&quot;</td><td>&quot;conventional&quot;</td><td>true</td><td>23</td><td>2023</td></tr></tbody></table></div>"
      ],
      "text/plain": [
       "shape: (44, 5)\n",
       "┌──────────────┬──────────────┬─────────────────┬──────────────┬────────┐\n",
       "│ country_code ┆ event_format ┆ has_any_results ┆ round_number ┆ season │\n",
       "│ ---          ┆ ---          ┆ ---             ┆ ---          ┆ ---    │\n",
       "│ str          ┆ str          ┆ bool            ┆ i64          ┆ i32    │\n",
       "╞══════════════╪══════════════╪═════════════════╪══════════════╪════════╡\n",
       "│ BHR          ┆ conventional ┆ true            ┆ 1            ┆ 2022   │\n",
       "│ SAU          ┆ conventional ┆ true            ┆ 2            ┆ 2022   │\n",
       "│ AUS          ┆ conventional ┆ true            ┆ 3            ┆ 2022   │\n",
       "│ AZE          ┆ sprint       ┆ true            ┆ 4            ┆ 2022   │\n",
       "│ USA          ┆ conventional ┆ true            ┆ 5            ┆ 2022   │\n",
       "│ …            ┆ …            ┆ …               ┆ …            ┆ …      │\n",
       "│ USA          ┆ sprint       ┆ true            ┆ 19           ┆ 2023   │\n",
       "│ MEX          ┆ conventional ┆ true            ┆ 20           ┆ 2023   │\n",
       "│ BRA          ┆ sprint       ┆ true            ┆ 21           ┆ 2023   │\n",
       "│ USA          ┆ conventional ┆ true            ┆ 22           ┆ 2023   │\n",
       "│ ARE          ┆ conventional ┆ true            ┆ 23           ┆ 2023   │\n",
       "└──────────────┴──────────────┴─────────────────┴──────────────┴────────┘"
      ]
     },
     "execution_count": 193,
     "metadata": {},
     "output_type": "execute_result"
    }
   ],
   "source": [
    "df"
   ]
  },
  {
   "cell_type": "code",
   "execution_count": 184,
   "id": "50ecf39f-5c78-4438-975d-4cdfd143c0fb",
   "metadata": {},
   "outputs": [],
   "source": [
    "df1 = pl.DataFrame(races['races'])\n",
    "df1 = df.with_columns(pl.lit(year).alias('season'))"
   ]
  },
  {
   "cell_type": "code",
   "execution_count": 197,
   "id": "9cdd758f-2419-43dd-a604-95b973c62e76",
   "metadata": {},
   "outputs": [
    {
     "data": {
      "text/html": [
       "<div><style>\n",
       ".dataframe > thead > tr,\n",
       ".dataframe > tbody > tr {\n",
       "  text-align: right;\n",
       "  white-space: pre-wrap;\n",
       "}\n",
       "</style>\n",
       "<small>shape: (44, 6)</small><table border=\"1\" class=\"dataframe\"><thead><tr><th>country_code</th><th>event_format</th><th>has_any_results</th><th>round_number</th><th>season</th><th>round</th></tr><tr><td>str</td><td>str</td><td>bool</td><td>i64</td><td>i32</td><td>i64</td></tr></thead><tbody><tr><td>&quot;BHR&quot;</td><td>&quot;conventional&quot;</td><td>true</td><td>1</td><td>2022</td><td>1</td></tr><tr><td>&quot;SAU&quot;</td><td>&quot;conventional&quot;</td><td>true</td><td>2</td><td>2022</td><td>2</td></tr><tr><td>&quot;AUS&quot;</td><td>&quot;conventional&quot;</td><td>true</td><td>3</td><td>2022</td><td>3</td></tr><tr><td>&quot;AZE&quot;</td><td>&quot;sprint&quot;</td><td>true</td><td>4</td><td>2022</td><td>4</td></tr><tr><td>&quot;USA&quot;</td><td>&quot;conventional&quot;</td><td>true</td><td>5</td><td>2022</td><td>5</td></tr><tr><td>&quot;MCO&quot;</td><td>&quot;conventional&quot;</td><td>true</td><td>7</td><td>2022</td><td>6</td></tr><tr><td>&quot;ESP&quot;</td><td>&quot;conventional&quot;</td><td>true</td><td>8</td><td>2022</td><td>7</td></tr><tr><td>&quot;CAN&quot;</td><td>&quot;conventional&quot;</td><td>true</td><td>9</td><td>2022</td><td>8</td></tr><tr><td>&quot;AUT&quot;</td><td>&quot;sprint&quot;</td><td>true</td><td>10</td><td>2022</td><td>9</td></tr><tr><td>&quot;GBR&quot;</td><td>&quot;conventional&quot;</td><td>true</td><td>11</td><td>2022</td><td>10</td></tr><tr><td>&quot;HUN&quot;</td><td>&quot;conventional&quot;</td><td>true</td><td>12</td><td>2022</td><td>11</td></tr><tr><td>&quot;BEL&quot;</td><td>&quot;sprint&quot;</td><td>true</td><td>13</td><td>2022</td><td>12</td></tr><tr><td>&hellip;</td><td>&hellip;</td><td>&hellip;</td><td>&hellip;</td><td>&hellip;</td><td>&hellip;</td></tr><tr><td>&quot;HUN&quot;</td><td>&quot;conventional&quot;</td><td>true</td><td>12</td><td>2023</td><td>33</td></tr><tr><td>&quot;BEL&quot;</td><td>&quot;sprint&quot;</td><td>true</td><td>13</td><td>2023</td><td>34</td></tr><tr><td>&quot;NLD&quot;</td><td>&quot;conventional&quot;</td><td>true</td><td>14</td><td>2023</td><td>35</td></tr><tr><td>&quot;ITA&quot;</td><td>&quot;conventional&quot;</td><td>true</td><td>15</td><td>2023</td><td>36</td></tr><tr><td>&quot;SGP&quot;</td><td>&quot;conventional&quot;</td><td>true</td><td>16</td><td>2023</td><td>37</td></tr><tr><td>&quot;JPN&quot;</td><td>&quot;conventional&quot;</td><td>true</td><td>17</td><td>2023</td><td>38</td></tr><tr><td>&quot;QAT&quot;</td><td>&quot;sprint&quot;</td><td>true</td><td>18</td><td>2023</td><td>39</td></tr><tr><td>&quot;USA&quot;</td><td>&quot;sprint&quot;</td><td>true</td><td>19</td><td>2023</td><td>40</td></tr><tr><td>&quot;MEX&quot;</td><td>&quot;conventional&quot;</td><td>true</td><td>20</td><td>2023</td><td>41</td></tr><tr><td>&quot;BRA&quot;</td><td>&quot;sprint&quot;</td><td>true</td><td>21</td><td>2023</td><td>42</td></tr><tr><td>&quot;USA&quot;</td><td>&quot;conventional&quot;</td><td>true</td><td>22</td><td>2023</td><td>43</td></tr><tr><td>&quot;ARE&quot;</td><td>&quot;conventional&quot;</td><td>true</td><td>23</td><td>2023</td><td>44</td></tr></tbody></table></div>"
      ],
      "text/plain": [
       "shape: (44, 6)\n",
       "┌──────────────┬──────────────┬─────────────────┬──────────────┬────────┬───────┐\n",
       "│ country_code ┆ event_format ┆ has_any_results ┆ round_number ┆ season ┆ round │\n",
       "│ ---          ┆ ---          ┆ ---             ┆ ---          ┆ ---    ┆ ---   │\n",
       "│ str          ┆ str          ┆ bool            ┆ i64          ┆ i32    ┆ i64   │\n",
       "╞══════════════╪══════════════╪═════════════════╪══════════════╪════════╪═══════╡\n",
       "│ BHR          ┆ conventional ┆ true            ┆ 1            ┆ 2022   ┆ 1     │\n",
       "│ SAU          ┆ conventional ┆ true            ┆ 2            ┆ 2022   ┆ 2     │\n",
       "│ AUS          ┆ conventional ┆ true            ┆ 3            ┆ 2022   ┆ 3     │\n",
       "│ AZE          ┆ sprint       ┆ true            ┆ 4            ┆ 2022   ┆ 4     │\n",
       "│ USA          ┆ conventional ┆ true            ┆ 5            ┆ 2022   ┆ 5     │\n",
       "│ …            ┆ …            ┆ …               ┆ …            ┆ …      ┆ …     │\n",
       "│ USA          ┆ sprint       ┆ true            ┆ 19           ┆ 2023   ┆ 40    │\n",
       "│ MEX          ┆ conventional ┆ true            ┆ 20           ┆ 2023   ┆ 41    │\n",
       "│ BRA          ┆ sprint       ┆ true            ┆ 21           ┆ 2023   ┆ 42    │\n",
       "│ USA          ┆ conventional ┆ true            ┆ 22           ┆ 2023   ┆ 43    │\n",
       "│ ARE          ┆ conventional ┆ true            ┆ 23           ┆ 2023   ┆ 44    │\n",
       "└──────────────┴──────────────┴─────────────────┴──────────────┴────────┴───────┘"
      ]
     },
     "execution_count": 197,
     "metadata": {},
     "output_type": "execute_result"
    }
   ],
   "source": [
    "df.with_columns(pl.Series(name=\"round\", values=[i+1 for i in range(len(df))]))"
   ]
  },
  {
   "cell_type": "code",
   "execution_count": 172,
   "id": "96c9029e-3c91-4294-a54b-37f6511c3a2e",
   "metadata": {},
   "outputs": [],
   "source": [
    "#Schema validation\n",
    "assert list(file[0].keys()) == ['abbreviation', 'color', 'constructor', 'race_results']\n",
    "assert len(file[0]['race_results']) == 4\n",
    "#Get constructor ID\n",
    "constructor_id = file[0]['abbreviation']\n",
    "#Get constructor total fantasy points after race - list of all races in the season\n",
    "list_position = 0\n",
    "assert file[0]['race_results'][list_position]['id'] == 'weekend_current_points'\n",
    "constructor_total_fantasy_points_list = file[0]['race_results'][list_position]['results_per_race_list']\n",
    "#Get constructor fantasy event details\n",
    "base_file = file[0]['race_results'][list_position]['fantasy_results']\n",
    "assert len(base_file) == 17 #list with 17 entries\n",
    "sublist_position = 0\n",
    "assert file[0]['race_results'][list_position]['fantasy_results'][sublist_position]['id'] == 'quali_not_classified_points'\n",
    "quali_not_classified_points = file[0]['race_results'][list_position]['fantasy_results'][sublist_position]['points_per_race_list']\n",
    "sublist_position +=1\n",
    "assert file[0]['race_results'][list_position]['fantasy_results'][sublist_position]['id'] == 'quali_disqualified_points'\n",
    "quali_disqualified_points = file[0]['race_results'][list_position]['fantasy_results'][sublist_position]['points_per_race_list']\n",
    "sublist_position +=1\n",
    "assert file[0]['race_results'][list_position]['fantasy_results'][sublist_position]['id'] == 'quali_pos_points'\n",
    "quali_pos_points = file[0]['race_results'][list_position]['fantasy_results'][sublist_position]['points_per_race_list']\n",
    "sublist_position +=1\n",
    "assert file[0]['race_results'][list_position]['fantasy_results'][sublist_position]['id'] == 'quali_teamwork_points'\n",
    "quali_teamwork_points = file[0]['race_results'][list_position]['fantasy_results'][sublist_position]['points_per_race_list']\n",
    "sublist_position +=1\n",
    "assert file[0]['race_results'][list_position]['fantasy_results'][sublist_position]['id'] == 'sprint_pos_gained_points'\n",
    "sprint_pos_gained_points = file[0]['race_results'][list_position]['fantasy_results'][sublist_position]['points_per_race_list']\n",
    "sublist_position +=1\n",
    "assert file[0]['race_results'][list_position]['fantasy_results'][sublist_position]['id'] == 'sprint_overtake_points'\n",
    "sprint_overtake_points = file[0]['race_results'][list_position]['fantasy_results'][sublist_position]['points_per_race_list']\n",
    "sublist_position +=1\n",
    "assert file[0]['race_results'][list_position]['fantasy_results'][sublist_position]['id'] == 'sprint_fastest_lap_points'\n",
    "sprint_fastest_lap_points = file[0]['race_results'][list_position]['fantasy_results'][sublist_position]['points_per_race_list']\n",
    "sublist_position +=1\n",
    "assert file[0]['race_results'][list_position]['fantasy_results'][sublist_position]['id'] == 'sprint_not_classified_points'\n",
    "sprint_not_classified_points = file[0]['race_results'][list_position]['fantasy_results'][sublist_position]['points_per_race_list']\n",
    "sublist_position +=1\n",
    "assert file[0]['race_results'][list_position]['fantasy_results'][sublist_position]['id'] == 'sprint_disqualified_points'\n",
    "sprint_disqualified_points = file[0]['race_results'][list_position]['fantasy_results'][sublist_position]['points_per_race_list']\n",
    "sublist_position +=1\n",
    "assert file[0]['race_results'][list_position]['fantasy_results'][sublist_position]['id'] == 'sprint_pos_points'\n",
    "sprint_pos_points = file[0]['race_results'][list_position]['fantasy_results'][sublist_position]['points_per_race_list']\n",
    "sublist_position +=1\n",
    "assert file[0]['race_results'][list_position]['fantasy_results'][sublist_position]['id'] == 'race_pos_gained_points'\n",
    "race_pos_gained_points = file[0]['race_results'][list_position]['fantasy_results'][sublist_position]['points_per_race_list']\n",
    "sublist_position +=1\n",
    "assert file[0]['race_results'][list_position]['fantasy_results'][sublist_position]['id'] == 'race_overtake_points'\n",
    "race_overtake_points = file[0]['race_results'][list_position]['fantasy_results'][sublist_position]['points_per_race_list']\n",
    "sublist_position +=1\n",
    "assert file[0]['race_results'][list_position]['fantasy_results'][sublist_position]['id'] == 'race_fastest_lap_points'\n",
    "race_fastest_lap_points = file[0]['race_results'][list_position]['fantasy_results'][sublist_position]['points_per_race_list']\n",
    "sublist_position +=1\n",
    "assert file[0]['race_results'][list_position]['fantasy_results'][sublist_position]['id'] == 'race_not_classified_points'\n",
    "race_not_classified_points = file[0]['race_results'][list_position]['fantasy_results'][sublist_position]['points_per_race_list']\n",
    "sublist_position +=1\n",
    "assert file[0]['race_results'][list_position]['fantasy_results'][sublist_position]['id'] == 'race_disqualified_points'\n",
    "race_disqualified_points = file[0]['race_results'][list_position]['fantasy_results'][sublist_position]['points_per_race_list']\n",
    "sublist_position +=1\n",
    "assert file[0]['race_results'][list_position]['fantasy_results'][sublist_position]['id'] == 'race_pos_points'\n",
    "race_pos_points = file[0]['race_results'][list_position]['fantasy_results'][sublist_position]['points_per_race_list']\n",
    "sublist_position +=1\n",
    "assert file[0]['race_results'][list_position]['fantasy_results'][sublist_position]['id'] == 'race_pit_stop_points'\n",
    "race_pit_stop_points = file[0]['race_results'][list_position]['fantasy_results'][sublist_position]['points_per_race_list']\n",
    "#Get constructor price before race - list of all races in the season\n",
    "list_position = 1\n",
    "assert file[0]['race_results'][list_position]['id'] == 'price_at_lock'\n",
    "constructor_price_list = file[0]['race_results'][list_position]['results_per_race_list']\n",
    "#Get constructor price change before race - list of all races in the season\n",
    "list_position = 2\n",
    "assert file[0]['race_results'][list_position]['id'] == 'price_change'\n",
    "constructor_price_change_list = file[0]['race_results'][list_position]['results_per_race_list']\n",
    "#Points per million - not useful as it's a calculated field\n",
    "list_position = 3\n",
    "assert file[0]['race_results'][list_position]['id'] == 'weekend_PPM'\n",
    "#Build out polars dataframe\n",
    "constructor_fantasy = pl.LazyFrame(constructor_total_fantasy_points_list, schema=['points_scored'])\n",
    "constructor_fantasy = constructor_fantasy.with_columns(pl.Series(name=\"price\", values=constructor_price_list))\n",
    "constructor_fantasy = constructor_fantasy.with_columns(pl.Series(name=\"price_change\", values=constructor_price_change_list))\n",
    "constructor_fantasy = constructor_fantasy.with_columns(pl.lit(constructor_id).alias('id'))\n",
    "constructor_fantasy = constructor_fantasy.with_columns(pl.lit(year).alias('season'))"
   ]
  },
  {
   "cell_type": "code",
   "execution_count": 173,
   "id": "5603546e-286b-4734-abc5-74045269a2ec",
   "metadata": {},
   "outputs": [
    {
     "data": {
      "text/html": [
       "<div><style>\n",
       ".dataframe > thead > tr,\n",
       ".dataframe > tbody > tr {\n",
       "  text-align: right;\n",
       "  white-space: pre-wrap;\n",
       "}\n",
       "</style>\n",
       "<small>shape: (22, 5)</small><table border=\"1\" class=\"dataframe\"><thead><tr><th>points_scored</th><th>price</th><th>price_change</th><th>id</th><th>season</th></tr><tr><td>i64</td><td>f64</td><td>f64</td><td>str</td><td>i32</td></tr></thead><tbody><tr><td>78</td><td>27.2</td><td>0.1</td><td>&quot;RED&quot;</td><td>2023</td></tr><tr><td>95</td><td>27.3</td><td>0.1</td><td>&quot;RED&quot;</td><td>2023</td></tr><tr><td>98</td><td>27.4</td><td>0.1</td><td>&quot;RED&quot;</td><td>2023</td></tr><tr><td>108</td><td>27.5</td><td>0.1</td><td>&quot;RED&quot;</td><td>2023</td></tr><tr><td>97</td><td>27.6</td><td>0.1</td><td>&quot;RED&quot;</td><td>2023</td></tr><tr><td>63</td><td>27.7</td><td>0.1</td><td>&quot;RED&quot;</td><td>2023</td></tr><tr><td>96</td><td>27.8</td><td>0.1</td><td>&quot;RED&quot;</td><td>2023</td></tr><tr><td>86</td><td>27.9</td><td>0.2</td><td>&quot;RED&quot;</td><td>2023</td></tr><tr><td>112</td><td>28.1</td><td>0.1</td><td>&quot;RED&quot;</td><td>2023</td></tr><tr><td>77</td><td>28.2</td><td>0.2</td><td>&quot;RED&quot;</td><td>2023</td></tr><tr><td>95</td><td>28.4</td><td>0.2</td><td>&quot;RED&quot;</td><td>2023</td></tr><tr><td>80</td><td>28.6</td><td>0.1</td><td>&quot;RED&quot;</td><td>2023</td></tr><tr><td>101</td><td>28.7</td><td>0.1</td><td>&quot;RED&quot;</td><td>2023</td></tr><tr><td>81</td><td>28.8</td><td>0.2</td><td>&quot;RED&quot;</td><td>2023</td></tr><tr><td>54</td><td>29.0</td><td>0.1</td><td>&quot;RED&quot;</td><td>2023</td></tr><tr><td>46</td><td>29.1</td><td>0.1</td><td>&quot;RED&quot;</td><td>2023</td></tr><tr><td>64</td><td>29.2</td><td>0.1</td><td>&quot;RED&quot;</td><td>2023</td></tr><tr><td>95</td><td>29.3</td><td>0.1</td><td>&quot;RED&quot;</td><td>2023</td></tr><tr><td>45</td><td>29.4</td><td>0.0</td><td>&quot;RED&quot;</td><td>2023</td></tr><tr><td>105</td><td>29.4</td><td>0.2</td><td>&quot;RED&quot;</td><td>2023</td></tr><tr><td>84</td><td>29.6</td><td>0.1</td><td>&quot;RED&quot;</td><td>2023</td></tr><tr><td>87</td><td>29.7</td><td>null</td><td>&quot;RED&quot;</td><td>2023</td></tr></tbody></table></div>"
      ],
      "text/plain": [
       "shape: (22, 5)\n",
       "┌───────────────┬───────┬──────────────┬─────┬────────┐\n",
       "│ points_scored ┆ price ┆ price_change ┆ id  ┆ season │\n",
       "│ ---           ┆ ---   ┆ ---          ┆ --- ┆ ---    │\n",
       "│ i64           ┆ f64   ┆ f64          ┆ str ┆ i32    │\n",
       "╞═══════════════╪═══════╪══════════════╪═════╪════════╡\n",
       "│ 78            ┆ 27.2  ┆ 0.1          ┆ RED ┆ 2023   │\n",
       "│ 95            ┆ 27.3  ┆ 0.1          ┆ RED ┆ 2023   │\n",
       "│ 98            ┆ 27.4  ┆ 0.1          ┆ RED ┆ 2023   │\n",
       "│ 108           ┆ 27.5  ┆ 0.1          ┆ RED ┆ 2023   │\n",
       "│ 97            ┆ 27.6  ┆ 0.1          ┆ RED ┆ 2023   │\n",
       "│ …             ┆ …     ┆ …            ┆ …   ┆ …      │\n",
       "│ 95            ┆ 29.3  ┆ 0.1          ┆ RED ┆ 2023   │\n",
       "│ 45            ┆ 29.4  ┆ 0.0          ┆ RED ┆ 2023   │\n",
       "│ 105           ┆ 29.4  ┆ 0.2          ┆ RED ┆ 2023   │\n",
       "│ 84            ┆ 29.6  ┆ 0.1          ┆ RED ┆ 2023   │\n",
       "│ 87            ┆ 29.7  ┆ null         ┆ RED ┆ 2023   │\n",
       "└───────────────┴───────┴──────────────┴─────┴────────┘"
      ]
     },
     "execution_count": 173,
     "metadata": {},
     "output_type": "execute_result"
    }
   ],
   "source": [
    "constructor_fantasy.collect()"
   ]
  }
 ],
 "metadata": {
  "kernelspec": {
   "display_name": "Python 3 (ipykernel)",
   "language": "python",
   "name": "python3"
  },
  "language_info": {
   "codemirror_mode": {
    "name": "ipython",
    "version": 3
   },
   "file_extension": ".py",
   "mimetype": "text/x-python",
   "name": "python",
   "nbconvert_exporter": "python",
   "pygments_lexer": "ipython3",
   "version": "3.10.12"
  }
 },
 "nbformat": 4,
 "nbformat_minor": 5
}
